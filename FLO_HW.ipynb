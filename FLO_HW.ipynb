{
 "cells": [
  {
   "cell_type": "markdown",
   "metadata": {},
   "source": [
    "### IMPORT LIBRARY AND OPEN SPARK SESSION"
   ]
  },
  {
   "cell_type": "code",
   "execution_count": 1,
   "metadata": {},
   "outputs": [],
   "source": [
    "import findspark\n",
    "import pandas as pd\n",
    "import warnings"
   ]
  },
  {
   "cell_type": "code",
   "execution_count": 2,
   "metadata": {},
   "outputs": [],
   "source": [
    "findspark.init(\"/opt/manual/spark\")"
   ]
  },
  {
   "cell_type": "code",
   "execution_count": 3,
   "metadata": {},
   "outputs": [],
   "source": [
    "warnings.filterwarnings(\"ignore\", category=FutureWarning)"
   ]
  },
  {
   "cell_type": "code",
   "execution_count": 4,
   "metadata": {},
   "outputs": [
    {
     "name": "stdout",
     "output_type": "stream",
     "text": [
      "Found 5 items\r\n",
      "-rw-r--r--   1 train supergroup       4556 2020-09-23 20:56 /user/train/datasets/Advertising.csv\r\n",
      "drwxr-xr-x   - train supergroup          0 2023-09-12 21:47 /user/train/datasets/House_Price\r\n",
      "drwxr-xr-x   - train supergroup          0 2020-11-19 21:02 /user/train/datasets/churn-telecom\r\n",
      "-rw-r--r--   1 train supergroup   19422619 2023-09-13 12:01 /user/train/datasets/flo100k_data.csv\r\n",
      "drwxr-xr-x   - train supergroup          0 2020-11-21 11:16 /user/train/datasets/retail_db\r\n"
     ]
    }
   ],
   "source": [
    "! hdfs dfs -ls /user/train/datasets"
   ]
  },
  {
   "cell_type": "code",
   "execution_count": 5,
   "metadata": {},
   "outputs": [],
   "source": [
    "#! hdfs dfs -put ~/datasets/flo100k_data.csv /user/train/datasets"
   ]
  },
  {
   "cell_type": "code",
   "execution_count": 5,
   "metadata": {},
   "outputs": [],
   "source": [
    "import pyspark\n",
    "from pyspark import SparkContext\n",
    "from pyspark.conf import SparkConf\n",
    "from pyspark.sql import SparkSession, functions as F\n",
    "spark = SparkSession.builder\\\n",
    "                    .master(\"yarn\")\\\n",
    "                    .appName(\"Clustering_KNN\")\\\n",
    "                    .getOrCreate()\n",
    "sc = spark.sparkContext"
   ]
  },
  {
   "cell_type": "code",
   "execution_count": 6,
   "metadata": {
    "scrolled": true
   },
   "outputs": [
    {
     "data": {
      "text/plain": [
       "'3.0.0'"
      ]
     },
     "execution_count": 6,
     "metadata": {},
     "output_type": "execute_result"
    }
   ],
   "source": [
    "sc.version"
   ]
  },
  {
   "cell_type": "markdown",
   "metadata": {},
   "source": [
    "### READ DATA"
   ]
  },
  {
   "cell_type": "code",
   "execution_count": 7,
   "metadata": {},
   "outputs": [],
   "source": [
    "df = spark.read.csv(\"/user/train/datasets/flo100k_data.csv\", header=True, inferSchema=True, sep=\"|\")"
   ]
  },
  {
   "cell_type": "code",
   "execution_count": 8,
   "metadata": {},
   "outputs": [
    {
     "data": {
      "text/plain": [
       "DataFrame[_c0: int, master_id: string, order_channel: string, platform_type: string, last_order_channel: string, first_order_date: timestamp, last_order_date: timestamp, last_order_date_online: timestamp, last_order_date_offline: timestamp, order_num_total_ever_online: double, order_num_total_ever_offline: double, customer_value_total_ever_offline: double, customer_value_total_ever_online: double, interested_in_categories_12: string, last_order_date_new: string]"
      ]
     },
     "execution_count": 8,
     "metadata": {},
     "output_type": "execute_result"
    }
   ],
   "source": [
    "df.persist()"
   ]
  },
  {
   "cell_type": "markdown",
   "metadata": {},
   "source": [
    "### EXPLORE DATA"
   ]
  },
  {
   "cell_type": "code",
   "execution_count": 9,
   "metadata": {},
   "outputs": [
    {
     "data": {
      "text/html": [
       "<div>\n",
       "<style scoped>\n",
       "    .dataframe tbody tr th:only-of-type {\n",
       "        vertical-align: middle;\n",
       "    }\n",
       "\n",
       "    .dataframe tbody tr th {\n",
       "        vertical-align: top;\n",
       "    }\n",
       "\n",
       "    .dataframe thead th {\n",
       "        text-align: right;\n",
       "    }\n",
       "</style>\n",
       "<table border=\"1\" class=\"dataframe\">\n",
       "  <thead>\n",
       "    <tr style=\"text-align: right;\">\n",
       "      <th></th>\n",
       "      <th>_c0</th>\n",
       "      <th>master_id</th>\n",
       "      <th>order_channel</th>\n",
       "      <th>platform_type</th>\n",
       "      <th>last_order_channel</th>\n",
       "      <th>first_order_date</th>\n",
       "      <th>last_order_date</th>\n",
       "      <th>last_order_date_online</th>\n",
       "      <th>last_order_date_offline</th>\n",
       "      <th>order_num_total_ever_online</th>\n",
       "      <th>order_num_total_ever_offline</th>\n",
       "      <th>customer_value_total_ever_offline</th>\n",
       "      <th>customer_value_total_ever_online</th>\n",
       "      <th>interested_in_categories_12</th>\n",
       "      <th>last_order_date_new</th>\n",
       "    </tr>\n",
       "  </thead>\n",
       "  <tbody>\n",
       "    <tr>\n",
       "      <th>0</th>\n",
       "      <td>0</td>\n",
       "      <td>b3ace094-a17f-11e9-a2fc-000d3a38a36f</td>\n",
       "      <td>Offline</td>\n",
       "      <td>Offline</td>\n",
       "      <td>Offline</td>\n",
       "      <td>2019-02-23 12:59:17</td>\n",
       "      <td>2019-02-23 12:59:17</td>\n",
       "      <td>NaT</td>\n",
       "      <td>2019-02-23 12:59:17</td>\n",
       "      <td>NaN</td>\n",
       "      <td>1.0</td>\n",
       "      <td>212.98</td>\n",
       "      <td>0.00</td>\n",
       "      <td>None</td>\n",
       "      <td>2019-02-23</td>\n",
       "    </tr>\n",
       "    <tr>\n",
       "      <th>1</th>\n",
       "      <td>1</td>\n",
       "      <td>c57d7c4c-a950-11e9-a2fc-000d3a38a36f</td>\n",
       "      <td>Offline</td>\n",
       "      <td>OmniChannel</td>\n",
       "      <td>Offline</td>\n",
       "      <td>2019-12-01 16:48:09</td>\n",
       "      <td>2019-12-01 16:48:09</td>\n",
       "      <td>NaT</td>\n",
       "      <td>2019-12-01 16:48:09</td>\n",
       "      <td>NaN</td>\n",
       "      <td>1.0</td>\n",
       "      <td>199.98</td>\n",
       "      <td>0.00</td>\n",
       "      <td>None</td>\n",
       "      <td>2019-12-01</td>\n",
       "    </tr>\n",
       "    <tr>\n",
       "      <th>2</th>\n",
       "      <td>2</td>\n",
       "      <td>602897a6-cdac-11ea-b31f-000d3a38a36f</td>\n",
       "      <td>Offline</td>\n",
       "      <td>Offline</td>\n",
       "      <td>Offline</td>\n",
       "      <td>2020-07-24 15:49:47</td>\n",
       "      <td>2020-07-24 15:49:47</td>\n",
       "      <td>NaT</td>\n",
       "      <td>2020-07-24 15:49:47</td>\n",
       "      <td>NaN</td>\n",
       "      <td>1.0</td>\n",
       "      <td>140.49</td>\n",
       "      <td>0.00</td>\n",
       "      <td>[ERKEK]</td>\n",
       "      <td>2020-07-24</td>\n",
       "    </tr>\n",
       "    <tr>\n",
       "      <th>3</th>\n",
       "      <td>3</td>\n",
       "      <td>388e4c4e-af86-11e9-a2fc-000d3a38a36f</td>\n",
       "      <td>Mobile</td>\n",
       "      <td>Online</td>\n",
       "      <td>Mobile</td>\n",
       "      <td>2018-12-31 07:22:07</td>\n",
       "      <td>2018-12-31 07:22:07</td>\n",
       "      <td>2018-12-31 07:22:07</td>\n",
       "      <td>NaT</td>\n",
       "      <td>1.0</td>\n",
       "      <td>NaN</td>\n",
       "      <td>0.00</td>\n",
       "      <td>174.99</td>\n",
       "      <td>None</td>\n",
       "      <td>2018-12-31</td>\n",
       "    </tr>\n",
       "    <tr>\n",
       "      <th>4</th>\n",
       "      <td>4</td>\n",
       "      <td>80664354-adf0-11eb-8f64-000d3a299ebf</td>\n",
       "      <td>Desktop</td>\n",
       "      <td>Online</td>\n",
       "      <td>Desktop</td>\n",
       "      <td>2021-05-05 21:07:02</td>\n",
       "      <td>2021-05-05 22:39:36</td>\n",
       "      <td>2021-05-05 22:39:36</td>\n",
       "      <td>NaT</td>\n",
       "      <td>2.0</td>\n",
       "      <td>NaN</td>\n",
       "      <td>0.00</td>\n",
       "      <td>283.95</td>\n",
       "      <td>[]</td>\n",
       "      <td>2021-05-05</td>\n",
       "    </tr>\n",
       "  </tbody>\n",
       "</table>\n",
       "</div>"
      ],
      "text/plain": [
       "   _c0                             master_id order_channel platform_type  \\\n",
       "0    0  b3ace094-a17f-11e9-a2fc-000d3a38a36f       Offline       Offline   \n",
       "1    1  c57d7c4c-a950-11e9-a2fc-000d3a38a36f       Offline   OmniChannel   \n",
       "2    2  602897a6-cdac-11ea-b31f-000d3a38a36f       Offline       Offline   \n",
       "3    3  388e4c4e-af86-11e9-a2fc-000d3a38a36f        Mobile        Online   \n",
       "4    4  80664354-adf0-11eb-8f64-000d3a299ebf       Desktop        Online   \n",
       "\n",
       "  last_order_channel    first_order_date     last_order_date  \\\n",
       "0            Offline 2019-02-23 12:59:17 2019-02-23 12:59:17   \n",
       "1            Offline 2019-12-01 16:48:09 2019-12-01 16:48:09   \n",
       "2            Offline 2020-07-24 15:49:47 2020-07-24 15:49:47   \n",
       "3             Mobile 2018-12-31 07:22:07 2018-12-31 07:22:07   \n",
       "4            Desktop 2021-05-05 21:07:02 2021-05-05 22:39:36   \n",
       "\n",
       "  last_order_date_online last_order_date_offline  order_num_total_ever_online  \\\n",
       "0                    NaT     2019-02-23 12:59:17                          NaN   \n",
       "1                    NaT     2019-12-01 16:48:09                          NaN   \n",
       "2                    NaT     2020-07-24 15:49:47                          NaN   \n",
       "3    2018-12-31 07:22:07                     NaT                          1.0   \n",
       "4    2021-05-05 22:39:36                     NaT                          2.0   \n",
       "\n",
       "   order_num_total_ever_offline  customer_value_total_ever_offline  \\\n",
       "0                           1.0                             212.98   \n",
       "1                           1.0                             199.98   \n",
       "2                           1.0                             140.49   \n",
       "3                           NaN                               0.00   \n",
       "4                           NaN                               0.00   \n",
       "\n",
       "   customer_value_total_ever_online interested_in_categories_12  \\\n",
       "0                              0.00                        None   \n",
       "1                              0.00                        None   \n",
       "2                              0.00                     [ERKEK]   \n",
       "3                            174.99                        None   \n",
       "4                            283.95                          []   \n",
       "\n",
       "  last_order_date_new  \n",
       "0          2019-02-23  \n",
       "1          2019-12-01  \n",
       "2          2020-07-24  \n",
       "3          2018-12-31  \n",
       "4          2021-05-05  "
      ]
     },
     "execution_count": 9,
     "metadata": {},
     "output_type": "execute_result"
    }
   ],
   "source": [
    "df.limit(5).toPandas()"
   ]
  },
  {
   "cell_type": "code",
   "execution_count": 10,
   "metadata": {},
   "outputs": [
    {
     "name": "stdout",
     "output_type": "stream",
     "text": [
      "100000\n"
     ]
    }
   ],
   "source": [
    "df_count = df.count()\n",
    "print(df_count)"
   ]
  },
  {
   "cell_type": "code",
   "execution_count": 11,
   "metadata": {},
   "outputs": [
    {
     "data": {
      "text/plain": [
       "15"
      ]
     },
     "execution_count": 11,
     "metadata": {},
     "output_type": "execute_result"
    }
   ],
   "source": [
    "len(df.columns)"
   ]
  },
  {
   "cell_type": "code",
   "execution_count": 12,
   "metadata": {},
   "outputs": [
    {
     "name": "stdout",
     "output_type": "stream",
     "text": [
      "root\n",
      " |-- _c0: integer (nullable = true)\n",
      " |-- master_id: string (nullable = true)\n",
      " |-- order_channel: string (nullable = true)\n",
      " |-- platform_type: string (nullable = true)\n",
      " |-- last_order_channel: string (nullable = true)\n",
      " |-- first_order_date: timestamp (nullable = true)\n",
      " |-- last_order_date: timestamp (nullable = true)\n",
      " |-- last_order_date_online: timestamp (nullable = true)\n",
      " |-- last_order_date_offline: timestamp (nullable = true)\n",
      " |-- order_num_total_ever_online: double (nullable = true)\n",
      " |-- order_num_total_ever_offline: double (nullable = true)\n",
      " |-- customer_value_total_ever_offline: double (nullable = true)\n",
      " |-- customer_value_total_ever_online: double (nullable = true)\n",
      " |-- interested_in_categories_12: string (nullable = true)\n",
      " |-- last_order_date_new: string (nullable = true)\n",
      "\n"
     ]
    }
   ],
   "source": [
    "df.printSchema()"
   ]
  },
  {
   "cell_type": "code",
   "execution_count": 13,
   "metadata": {},
   "outputs": [],
   "source": [
    "df = df.drop(\"_c0\")"
   ]
  },
  {
   "cell_type": "markdown",
   "metadata": {},
   "source": [
    "### NULL CHECK"
   ]
  },
  {
   "cell_type": "code",
   "execution_count": 14,
   "metadata": {},
   "outputs": [],
   "source": [
    "def null_count(dataframe, col_name):\n",
    "    nc = dataframe.select(col_name).filter(\n",
    "                                              (F.col(col_name) == \"NA\") |\n",
    "                                              (F.col(col_name).isNull()) |\n",
    "                                              (F.col(col_name) == \"\")).count()\n",
    "    return nc"
   ]
  },
  {
   "cell_type": "code",
   "execution_count": 15,
   "metadata": {},
   "outputs": [
    {
     "data": {
      "text/plain": [
       "56590"
      ]
     },
     "execution_count": 15,
     "metadata": {},
     "output_type": "execute_result"
    }
   ],
   "source": [
    "df.select(\"interested_in_categories_12\").filter(\n",
    "                                              (F.col(\"interested_in_categories_12\") == \"NA\") |\n",
    "                                              (F.col(\"interested_in_categories_12\").isNull()) |\n",
    "                                              (F.col(\"interested_in_categories_12\") == \"\")).count()"
   ]
  },
  {
   "cell_type": "code",
   "execution_count": 16,
   "metadata": {},
   "outputs": [
    {
     "data": {
      "text/plain": [
       "56590"
      ]
     },
     "execution_count": 16,
     "metadata": {},
     "output_type": "execute_result"
    }
   ],
   "source": [
    "null_count(df, \"interested_in_categories_12\")"
   ]
  },
  {
   "cell_type": "code",
   "execution_count": 17,
   "metadata": {},
   "outputs": [
    {
     "name": "stdout",
     "output_type": "stream",
     "text": [
      "last_order_date_online has 70784 null value and % 70.784\n",
      "last_order_date_offline has 21703 null value and % 21.703\n",
      "order_num_total_ever_online has 70784 null value and % 70.784\n",
      "order_num_total_ever_offline has 21703 null value and % 21.703\n",
      "interested_in_categories_12 has 56590 null value and % 56.589999999999996\n"
     ]
    }
   ],
   "source": [
    "for col_name in df.dtypes:\n",
    "    nc = null_count(df, col_name[0])\n",
    "    if nc > 0:\n",
    "        print(\"{} has {} null value and % {}\".format(col_name[0], nc, (nc/df_count)*100))"
   ]
  },
  {
   "cell_type": "markdown",
   "metadata": {},
   "source": [
    "### IS MASTER ID UNIQUE?"
   ]
  },
  {
   "cell_type": "code",
   "execution_count": 18,
   "metadata": {},
   "outputs": [
    {
     "data": {
      "text/plain": [
       "True"
      ]
     },
     "execution_count": 18,
     "metadata": {},
     "output_type": "execute_result"
    }
   ],
   "source": [
    "df.select(\"master_id\").distinct().count() == df.count()"
   ]
  },
  {
   "cell_type": "markdown",
   "metadata": {},
   "source": [
    "### DATA UNDERSTANDING"
   ]
  },
  {
   "cell_type": "code",
   "execution_count": 19,
   "metadata": {
    "scrolled": true
   },
   "outputs": [
    {
     "name": "stdout",
     "output_type": "stream",
     "text": [
      "+-------------+-------------+-----+\n",
      "|platform_type|order_channel|count|\n",
      "+-------------+-------------+-----+\n",
      "|       Online|       Mobile| 6451|\n",
      "|       Online|  Android App| 8728|\n",
      "|  OmniChannel|      Offline| 4793|\n",
      "|      Offline|      Offline|65991|\n",
      "|  OmniChannel|  Android App| 3261|\n",
      "|       Online|      Ios App| 3008|\n",
      "|  OmniChannel|      Ios App|  956|\n",
      "|       Online|      Desktop| 3253|\n",
      "|  OmniChannel|       Mobile| 2061|\n",
      "|  OmniChannel|      Desktop| 1498|\n",
      "+-------------+-------------+-----+\n",
      "\n"
     ]
    }
   ],
   "source": [
    "df.groupBy([\"platform_type\", \"order_channel\"]).count().show()"
   ]
  },
  {
   "cell_type": "markdown",
   "metadata": {},
   "source": [
    "### CREATE NEW COLUMN FROM DF COLUMNS"
   ]
  },
  {
   "cell_type": "code",
   "execution_count": 20,
   "metadata": {},
   "outputs": [],
   "source": [
    "df = df.fillna(0, subset=[\"order_num_total_ever_online\",\"order_num_total_ever_offline\"])"
   ]
  },
  {
   "cell_type": "code",
   "execution_count": 21,
   "metadata": {},
   "outputs": [],
   "source": [
    "df1 = df.withColumn(\"order_num_total\", F.col(\"order_num_total_ever_online\") + F.col(\"order_num_total_ever_offline\"))\\\n",
    "        .withColumn(\"customer_value_total\", F.col(\"customer_value_total_ever_online\") + F.col(\"customer_value_total_ever_offline\"))"
   ]
  },
  {
   "cell_type": "code",
   "execution_count": 22,
   "metadata": {},
   "outputs": [
    {
     "data": {
      "text/html": [
       "<div>\n",
       "<style scoped>\n",
       "    .dataframe tbody tr th:only-of-type {\n",
       "        vertical-align: middle;\n",
       "    }\n",
       "\n",
       "    .dataframe tbody tr th {\n",
       "        vertical-align: top;\n",
       "    }\n",
       "\n",
       "    .dataframe thead th {\n",
       "        text-align: right;\n",
       "    }\n",
       "</style>\n",
       "<table border=\"1\" class=\"dataframe\">\n",
       "  <thead>\n",
       "    <tr style=\"text-align: right;\">\n",
       "      <th></th>\n",
       "      <th>master_id</th>\n",
       "      <th>order_channel</th>\n",
       "      <th>platform_type</th>\n",
       "      <th>last_order_channel</th>\n",
       "      <th>first_order_date</th>\n",
       "      <th>last_order_date</th>\n",
       "      <th>last_order_date_online</th>\n",
       "      <th>last_order_date_offline</th>\n",
       "      <th>order_num_total_ever_online</th>\n",
       "      <th>order_num_total_ever_offline</th>\n",
       "      <th>customer_value_total_ever_offline</th>\n",
       "      <th>customer_value_total_ever_online</th>\n",
       "      <th>interested_in_categories_12</th>\n",
       "      <th>last_order_date_new</th>\n",
       "      <th>order_num_total</th>\n",
       "      <th>customer_value_total</th>\n",
       "    </tr>\n",
       "  </thead>\n",
       "  <tbody>\n",
       "    <tr>\n",
       "      <th>0</th>\n",
       "      <td>b3ace094-a17f-11e9-a2fc-000d3a38a36f</td>\n",
       "      <td>Offline</td>\n",
       "      <td>Offline</td>\n",
       "      <td>Offline</td>\n",
       "      <td>2019-02-23 12:59:17</td>\n",
       "      <td>2019-02-23 12:59:17</td>\n",
       "      <td>NaT</td>\n",
       "      <td>2019-02-23 12:59:17</td>\n",
       "      <td>0.0</td>\n",
       "      <td>1.0</td>\n",
       "      <td>212.98</td>\n",
       "      <td>0.0</td>\n",
       "      <td>None</td>\n",
       "      <td>2019-02-23</td>\n",
       "      <td>1.0</td>\n",
       "      <td>212.98</td>\n",
       "    </tr>\n",
       "    <tr>\n",
       "      <th>1</th>\n",
       "      <td>c57d7c4c-a950-11e9-a2fc-000d3a38a36f</td>\n",
       "      <td>Offline</td>\n",
       "      <td>OmniChannel</td>\n",
       "      <td>Offline</td>\n",
       "      <td>2019-12-01 16:48:09</td>\n",
       "      <td>2019-12-01 16:48:09</td>\n",
       "      <td>NaT</td>\n",
       "      <td>2019-12-01 16:48:09</td>\n",
       "      <td>0.0</td>\n",
       "      <td>1.0</td>\n",
       "      <td>199.98</td>\n",
       "      <td>0.0</td>\n",
       "      <td>None</td>\n",
       "      <td>2019-12-01</td>\n",
       "      <td>1.0</td>\n",
       "      <td>199.98</td>\n",
       "    </tr>\n",
       "    <tr>\n",
       "      <th>2</th>\n",
       "      <td>602897a6-cdac-11ea-b31f-000d3a38a36f</td>\n",
       "      <td>Offline</td>\n",
       "      <td>Offline</td>\n",
       "      <td>Offline</td>\n",
       "      <td>2020-07-24 15:49:47</td>\n",
       "      <td>2020-07-24 15:49:47</td>\n",
       "      <td>NaT</td>\n",
       "      <td>2020-07-24 15:49:47</td>\n",
       "      <td>0.0</td>\n",
       "      <td>1.0</td>\n",
       "      <td>140.49</td>\n",
       "      <td>0.0</td>\n",
       "      <td>[ERKEK]</td>\n",
       "      <td>2020-07-24</td>\n",
       "      <td>1.0</td>\n",
       "      <td>140.49</td>\n",
       "    </tr>\n",
       "  </tbody>\n",
       "</table>\n",
       "</div>"
      ],
      "text/plain": [
       "                              master_id order_channel platform_type  \\\n",
       "0  b3ace094-a17f-11e9-a2fc-000d3a38a36f       Offline       Offline   \n",
       "1  c57d7c4c-a950-11e9-a2fc-000d3a38a36f       Offline   OmniChannel   \n",
       "2  602897a6-cdac-11ea-b31f-000d3a38a36f       Offline       Offline   \n",
       "\n",
       "  last_order_channel    first_order_date     last_order_date  \\\n",
       "0            Offline 2019-02-23 12:59:17 2019-02-23 12:59:17   \n",
       "1            Offline 2019-12-01 16:48:09 2019-12-01 16:48:09   \n",
       "2            Offline 2020-07-24 15:49:47 2020-07-24 15:49:47   \n",
       "\n",
       "  last_order_date_online last_order_date_offline  order_num_total_ever_online  \\\n",
       "0                    NaT     2019-02-23 12:59:17                          0.0   \n",
       "1                    NaT     2019-12-01 16:48:09                          0.0   \n",
       "2                    NaT     2020-07-24 15:49:47                          0.0   \n",
       "\n",
       "   order_num_total_ever_offline  customer_value_total_ever_offline  \\\n",
       "0                           1.0                             212.98   \n",
       "1                           1.0                             199.98   \n",
       "2                           1.0                             140.49   \n",
       "\n",
       "   customer_value_total_ever_online interested_in_categories_12  \\\n",
       "0                               0.0                        None   \n",
       "1                               0.0                        None   \n",
       "2                               0.0                     [ERKEK]   \n",
       "\n",
       "  last_order_date_new  order_num_total  customer_value_total  \n",
       "0          2019-02-23              1.0                212.98  \n",
       "1          2019-12-01              1.0                199.98  \n",
       "2          2020-07-24              1.0                140.49  "
      ]
     },
     "execution_count": 22,
     "metadata": {},
     "output_type": "execute_result"
    }
   ],
   "source": [
    "df1.limit(3).toPandas()"
   ]
  },
  {
   "cell_type": "markdown",
   "metadata": {},
   "source": [
    "### ANALYSIS ORDER CHANNEL AND PLATFORM"
   ]
  },
  {
   "cell_type": "code",
   "execution_count": 28,
   "metadata": {},
   "outputs": [
    {
     "name": "stdout",
     "output_type": "stream",
     "text": [
      "+-------------+----------------+\n",
      "|order_channel|count(master_id)|\n",
      "+-------------+----------------+\n",
      "|  Android App|           11989|\n",
      "|       Mobile|            8512|\n",
      "|      Ios App|            3964|\n",
      "|      Desktop|            4751|\n",
      "|      Offline|           70784|\n",
      "+-------------+----------------+\n",
      "\n"
     ]
    }
   ],
   "source": [
    "df1.groupBy(\"order_channel\").agg({\"master_id\": \"count\"}).show()"
   ]
  },
  {
   "cell_type": "code",
   "execution_count": 29,
   "metadata": {},
   "outputs": [
    {
     "name": "stdout",
     "output_type": "stream",
     "text": [
      "+-------------+--------------------+\n",
      "|order_channel|avg(order_num_total)|\n",
      "+-------------+--------------------+\n",
      "|  Android App|    3.50971724080407|\n",
      "|       Mobile|   2.798637218045113|\n",
      "|      Ios App|   3.377648839556004|\n",
      "|      Desktop|   2.538623447695222|\n",
      "|      Offline|  1.6003475361663653|\n",
      "+-------------+--------------------+\n",
      "\n"
     ]
    }
   ],
   "source": [
    "df1.groupBy(\"order_channel\").agg({\"order_num_total\": \"mean\"}).show()"
   ]
  },
  {
   "cell_type": "code",
   "execution_count": 30,
   "metadata": {},
   "outputs": [
    {
     "name": "stdout",
     "output_type": "stream",
     "text": [
      "+-------------+-------------------------+\n",
      "|order_channel|sum(customer_value_total)|\n",
      "+-------------+-------------------------+\n",
      "|  Android App|        6388294.100000136|\n",
      "|       Mobile|        3334506.849999907|\n",
      "|      Ios App|        2253391.419999978|\n",
      "|      Desktop|       1790716.2999999707|\n",
      "|      Offline|     1.5442516930008002E7|\n",
      "+-------------+-------------------------+\n",
      "\n"
     ]
    }
   ],
   "source": [
    "df1.groupBy(\"order_channel\").agg({\"customer_value_total\": \"sum\"}).show()"
   ]
  },
  {
   "cell_type": "code",
   "execution_count": 31,
   "metadata": {},
   "outputs": [
    {
     "name": "stdout",
     "output_type": "stream",
     "text": [
      "+-------------+----------------+--------------------+-------------------------+\n",
      "|order_channel|count(master_id)|avg(order_num_total)|sum(customer_value_total)|\n",
      "+-------------+----------------+--------------------+-------------------------+\n",
      "|  Android App|           11989|    3.50971724080407|        6388294.100000136|\n",
      "|       Mobile|            8512|   2.798637218045113|        3334506.849999907|\n",
      "|      Ios App|            3964|   3.377648839556004|        2253391.419999978|\n",
      "|      Desktop|            4751|   2.538623447695222|       1790716.2999999707|\n",
      "|      Offline|           70784|  1.6003475361663653|     1.5442516930008002E7|\n",
      "+-------------+----------------+--------------------+-------------------------+\n",
      "\n"
     ]
    }
   ],
   "source": [
    "df1.groupBy(\"order_channel\").agg(F.count(\"master_id\"), F.mean(\"order_num_total\"), F.sum(\"customer_value_total\")).show()"
   ]
  },
  {
   "cell_type": "code",
   "execution_count": 32,
   "metadata": {},
   "outputs": [
    {
     "name": "stdout",
     "output_type": "stream",
     "text": [
      "+-------------+----------------+\n",
      "|platform_type|count(master_id)|\n",
      "+-------------+----------------+\n",
      "|  OmniChannel|           12569|\n",
      "|       Online|           21440|\n",
      "|      Offline|           65991|\n",
      "+-------------+----------------+\n",
      "\n"
     ]
    }
   ],
   "source": [
    "df1.groupBy(\"platform_type\").agg({\"master_id\": \"count\"}).show()"
   ]
  },
  {
   "cell_type": "code",
   "execution_count": 33,
   "metadata": {},
   "outputs": [
    {
     "name": "stdout",
     "output_type": "stream",
     "text": [
      "+-------------+--------------------+\n",
      "|platform_type|avg(order_num_total)|\n",
      "+-------------+--------------------+\n",
      "|  OmniChannel|  3.4947092051873656|\n",
      "|       Online|  2.6207089552238805|\n",
      "|      Offline|  1.5837917291751906|\n",
      "+-------------+--------------------+\n",
      "\n"
     ]
    }
   ],
   "source": [
    "df1.groupBy(\"platform_type\").agg({\"order_num_total\": \"mean\"}).show()"
   ]
  },
  {
   "cell_type": "code",
   "execution_count": 34,
   "metadata": {},
   "outputs": [
    {
     "name": "stdout",
     "output_type": "stream",
     "text": [
      "+-------------+-------------------------+\n",
      "|platform_type|sum(customer_value_total)|\n",
      "+-------------+-------------------------+\n",
      "|  OmniChannel|         6294476.66000017|\n",
      "|       Online|        8678690.260000788|\n",
      "|      Offline|     1.4236258680006828E7|\n",
      "+-------------+-------------------------+\n",
      "\n"
     ]
    }
   ],
   "source": [
    "df1.groupBy(\"platform_type\").agg({\"customer_value_total\": \"sum\"}).show()"
   ]
  },
  {
   "cell_type": "code",
   "execution_count": 35,
   "metadata": {
    "scrolled": true
   },
   "outputs": [
    {
     "name": "stdout",
     "output_type": "stream",
     "text": [
      "+-------------+----------------+--------------------+-------------------------+\n",
      "|platform_type|count(master_id)|avg(order_num_total)|sum(customer_value_total)|\n",
      "+-------------+----------------+--------------------+-------------------------+\n",
      "|  OmniChannel|           12569|  3.4947092051873656|         6294476.66000017|\n",
      "|       Online|           21440|  2.6207089552238805|        8678690.260000788|\n",
      "|      Offline|           65991|  1.5837917291751906|     1.4236258680006828E7|\n",
      "+-------------+----------------+--------------------+-------------------------+\n",
      "\n"
     ]
    }
   ],
   "source": [
    "df1.groupBy(\"platform_type\").agg(F.count(\"master_id\"), F.mean(\"order_num_total\"), F.sum(\"customer_value_total\")).show()"
   ]
  },
  {
   "cell_type": "markdown",
   "metadata": {},
   "source": [
    "### CALCULATION OF K-MEANS METRICS"
   ]
  },
  {
   "cell_type": "code",
   "execution_count": 23,
   "metadata": {},
   "outputs": [],
   "source": [
    "columns = [\"master_id\", \"last_order_date_new\", \"order_num_total\", \"customer_value_total\"]\n",
    "rfm = df1.select(columns)"
   ]
  },
  {
   "cell_type": "code",
   "execution_count": 24,
   "metadata": {},
   "outputs": [
    {
     "data": {
      "text/html": [
       "<div>\n",
       "<style scoped>\n",
       "    .dataframe tbody tr th:only-of-type {\n",
       "        vertical-align: middle;\n",
       "    }\n",
       "\n",
       "    .dataframe tbody tr th {\n",
       "        vertical-align: top;\n",
       "    }\n",
       "\n",
       "    .dataframe thead th {\n",
       "        text-align: right;\n",
       "    }\n",
       "</style>\n",
       "<table border=\"1\" class=\"dataframe\">\n",
       "  <thead>\n",
       "    <tr style=\"text-align: right;\">\n",
       "      <th></th>\n",
       "      <th>master_id</th>\n",
       "      <th>last_order_date_new</th>\n",
       "      <th>order_num_total</th>\n",
       "      <th>customer_value_total</th>\n",
       "    </tr>\n",
       "  </thead>\n",
       "  <tbody>\n",
       "    <tr>\n",
       "      <th>0</th>\n",
       "      <td>b3ace094-a17f-11e9-a2fc-000d3a38a36f</td>\n",
       "      <td>2019-02-23</td>\n",
       "      <td>1.0</td>\n",
       "      <td>212.98</td>\n",
       "    </tr>\n",
       "    <tr>\n",
       "      <th>1</th>\n",
       "      <td>c57d7c4c-a950-11e9-a2fc-000d3a38a36f</td>\n",
       "      <td>2019-12-01</td>\n",
       "      <td>1.0</td>\n",
       "      <td>199.98</td>\n",
       "    </tr>\n",
       "    <tr>\n",
       "      <th>2</th>\n",
       "      <td>602897a6-cdac-11ea-b31f-000d3a38a36f</td>\n",
       "      <td>2020-07-24</td>\n",
       "      <td>1.0</td>\n",
       "      <td>140.49</td>\n",
       "    </tr>\n",
       "    <tr>\n",
       "      <th>3</th>\n",
       "      <td>388e4c4e-af86-11e9-a2fc-000d3a38a36f</td>\n",
       "      <td>2018-12-31</td>\n",
       "      <td>1.0</td>\n",
       "      <td>174.99</td>\n",
       "    </tr>\n",
       "    <tr>\n",
       "      <th>4</th>\n",
       "      <td>80664354-adf0-11eb-8f64-000d3a299ebf</td>\n",
       "      <td>2021-05-05</td>\n",
       "      <td>2.0</td>\n",
       "      <td>283.95</td>\n",
       "    </tr>\n",
       "  </tbody>\n",
       "</table>\n",
       "</div>"
      ],
      "text/plain": [
       "                              master_id last_order_date_new  order_num_total  \\\n",
       "0  b3ace094-a17f-11e9-a2fc-000d3a38a36f          2019-02-23              1.0   \n",
       "1  c57d7c4c-a950-11e9-a2fc-000d3a38a36f          2019-12-01              1.0   \n",
       "2  602897a6-cdac-11ea-b31f-000d3a38a36f          2020-07-24              1.0   \n",
       "3  388e4c4e-af86-11e9-a2fc-000d3a38a36f          2018-12-31              1.0   \n",
       "4  80664354-adf0-11eb-8f64-000d3a299ebf          2021-05-05              2.0   \n",
       "\n",
       "   customer_value_total  \n",
       "0                212.98  \n",
       "1                199.98  \n",
       "2                140.49  \n",
       "3                174.99  \n",
       "4                283.95  "
      ]
     },
     "execution_count": 24,
     "metadata": {},
     "output_type": "execute_result"
    }
   ],
   "source": [
    "rfm.limit(5).toPandas()"
   ]
  },
  {
   "cell_type": "code",
   "execution_count": 25,
   "metadata": {},
   "outputs": [
    {
     "name": "stdout",
     "output_type": "stream",
     "text": [
      "2021-05-30\n"
     ]
    }
   ],
   "source": [
    "last_date_order = rfm.agg({\"last_order_date_new\": \"max\"}).collect()[0][0]\n",
    "\n",
    "# last_date = rfm.orderBy(\"last_order_date_new\", ascending = False).first()[\"last_order_date_new\"]\n",
    "\n",
    "print(last_date_order)"
   ]
  },
  {
   "cell_type": "code",
   "execution_count": 26,
   "metadata": {},
   "outputs": [],
   "source": [
    "rfm1 = rfm.withColumn(\"Recency\", F.expr(f\"datediff('{last_date_order}', last_order_date_new) + 2\"))"
   ]
  },
  {
   "cell_type": "code",
   "execution_count": 27,
   "metadata": {},
   "outputs": [
    {
     "name": "stdout",
     "output_type": "stream",
     "text": [
      "root\n",
      " |-- master_id: string (nullable = true)\n",
      " |-- last_order_date_new: string (nullable = true)\n",
      " |-- order_num_total: double (nullable = false)\n",
      " |-- customer_value_total: double (nullable = true)\n",
      " |-- Recency: integer (nullable = true)\n",
      "\n"
     ]
    }
   ],
   "source": [
    "rfm1.printSchema()"
   ]
  },
  {
   "cell_type": "code",
   "execution_count": 28,
   "metadata": {},
   "outputs": [
    {
     "data": {
      "text/html": [
       "<div>\n",
       "<style scoped>\n",
       "    .dataframe tbody tr th:only-of-type {\n",
       "        vertical-align: middle;\n",
       "    }\n",
       "\n",
       "    .dataframe tbody tr th {\n",
       "        vertical-align: top;\n",
       "    }\n",
       "\n",
       "    .dataframe thead th {\n",
       "        text-align: right;\n",
       "    }\n",
       "</style>\n",
       "<table border=\"1\" class=\"dataframe\">\n",
       "  <thead>\n",
       "    <tr style=\"text-align: right;\">\n",
       "      <th></th>\n",
       "      <th>master_id</th>\n",
       "      <th>last_order_date_new</th>\n",
       "      <th>order_num_total</th>\n",
       "      <th>customer_value_total</th>\n",
       "      <th>Recency</th>\n",
       "    </tr>\n",
       "  </thead>\n",
       "  <tbody>\n",
       "    <tr>\n",
       "      <th>0</th>\n",
       "      <td>b3ace094-a17f-11e9-a2fc-000d3a38a36f</td>\n",
       "      <td>2019-02-23</td>\n",
       "      <td>1.0</td>\n",
       "      <td>212.98</td>\n",
       "      <td>829</td>\n",
       "    </tr>\n",
       "    <tr>\n",
       "      <th>1</th>\n",
       "      <td>c57d7c4c-a950-11e9-a2fc-000d3a38a36f</td>\n",
       "      <td>2019-12-01</td>\n",
       "      <td>1.0</td>\n",
       "      <td>199.98</td>\n",
       "      <td>548</td>\n",
       "    </tr>\n",
       "    <tr>\n",
       "      <th>2</th>\n",
       "      <td>602897a6-cdac-11ea-b31f-000d3a38a36f</td>\n",
       "      <td>2020-07-24</td>\n",
       "      <td>1.0</td>\n",
       "      <td>140.49</td>\n",
       "      <td>312</td>\n",
       "    </tr>\n",
       "  </tbody>\n",
       "</table>\n",
       "</div>"
      ],
      "text/plain": [
       "                              master_id last_order_date_new  order_num_total  \\\n",
       "0  b3ace094-a17f-11e9-a2fc-000d3a38a36f          2019-02-23              1.0   \n",
       "1  c57d7c4c-a950-11e9-a2fc-000d3a38a36f          2019-12-01              1.0   \n",
       "2  602897a6-cdac-11ea-b31f-000d3a38a36f          2020-07-24              1.0   \n",
       "\n",
       "   customer_value_total  Recency  \n",
       "0                212.98      829  \n",
       "1                199.98      548  \n",
       "2                140.49      312  "
      ]
     },
     "execution_count": 28,
     "metadata": {},
     "output_type": "execute_result"
    }
   ],
   "source": [
    "rfm1.limit(3).toPandas()"
   ]
  },
  {
   "cell_type": "code",
   "execution_count": 29,
   "metadata": {},
   "outputs": [],
   "source": [
    "rfm1 = rfm1.withColumnRenamed(\"order_num_total\", \"Frequency\").withColumnRenamed(\"customer_value_total\", \"Monetary\")"
   ]
  },
  {
   "cell_type": "code",
   "execution_count": 30,
   "metadata": {},
   "outputs": [],
   "source": [
    "rfm2 = rfm1.drop(\"last_order_date_new\")"
   ]
  },
  {
   "cell_type": "code",
   "execution_count": 31,
   "metadata": {
    "scrolled": true
   },
   "outputs": [
    {
     "data": {
      "text/html": [
       "<div>\n",
       "<style scoped>\n",
       "    .dataframe tbody tr th:only-of-type {\n",
       "        vertical-align: middle;\n",
       "    }\n",
       "\n",
       "    .dataframe tbody tr th {\n",
       "        vertical-align: top;\n",
       "    }\n",
       "\n",
       "    .dataframe thead th {\n",
       "        text-align: right;\n",
       "    }\n",
       "</style>\n",
       "<table border=\"1\" class=\"dataframe\">\n",
       "  <thead>\n",
       "    <tr style=\"text-align: right;\">\n",
       "      <th></th>\n",
       "      <th>master_id</th>\n",
       "      <th>Frequency</th>\n",
       "      <th>Monetary</th>\n",
       "      <th>Recency</th>\n",
       "    </tr>\n",
       "  </thead>\n",
       "  <tbody>\n",
       "    <tr>\n",
       "      <th>0</th>\n",
       "      <td>b3ace094-a17f-11e9-a2fc-000d3a38a36f</td>\n",
       "      <td>1.0</td>\n",
       "      <td>212.98</td>\n",
       "      <td>829</td>\n",
       "    </tr>\n",
       "    <tr>\n",
       "      <th>1</th>\n",
       "      <td>c57d7c4c-a950-11e9-a2fc-000d3a38a36f</td>\n",
       "      <td>1.0</td>\n",
       "      <td>199.98</td>\n",
       "      <td>548</td>\n",
       "    </tr>\n",
       "    <tr>\n",
       "      <th>2</th>\n",
       "      <td>602897a6-cdac-11ea-b31f-000d3a38a36f</td>\n",
       "      <td>1.0</td>\n",
       "      <td>140.49</td>\n",
       "      <td>312</td>\n",
       "    </tr>\n",
       "    <tr>\n",
       "      <th>3</th>\n",
       "      <td>388e4c4e-af86-11e9-a2fc-000d3a38a36f</td>\n",
       "      <td>1.0</td>\n",
       "      <td>174.99</td>\n",
       "      <td>883</td>\n",
       "    </tr>\n",
       "    <tr>\n",
       "      <th>4</th>\n",
       "      <td>80664354-adf0-11eb-8f64-000d3a299ebf</td>\n",
       "      <td>2.0</td>\n",
       "      <td>283.95</td>\n",
       "      <td>27</td>\n",
       "    </tr>\n",
       "  </tbody>\n",
       "</table>\n",
       "</div>"
      ],
      "text/plain": [
       "                              master_id  Frequency  Monetary  Recency\n",
       "0  b3ace094-a17f-11e9-a2fc-000d3a38a36f        1.0    212.98      829\n",
       "1  c57d7c4c-a950-11e9-a2fc-000d3a38a36f        1.0    199.98      548\n",
       "2  602897a6-cdac-11ea-b31f-000d3a38a36f        1.0    140.49      312\n",
       "3  388e4c4e-af86-11e9-a2fc-000d3a38a36f        1.0    174.99      883\n",
       "4  80664354-adf0-11eb-8f64-000d3a299ebf        2.0    283.95       27"
      ]
     },
     "execution_count": 31,
     "metadata": {},
     "output_type": "execute_result"
    }
   ],
   "source": [
    "rfm2.limit(5).toPandas()"
   ]
  },
  {
   "cell_type": "markdown",
   "metadata": {},
   "source": [
    "### VECTOR ASSEMBLER"
   ]
  },
  {
   "cell_type": "code",
   "execution_count": 32,
   "metadata": {},
   "outputs": [],
   "source": [
    "assembler_cols = rfm2.columns[1:]"
   ]
  },
  {
   "cell_type": "code",
   "execution_count": 33,
   "metadata": {},
   "outputs": [],
   "source": [
    "from pyspark.ml.feature import VectorAssembler"
   ]
  },
  {
   "cell_type": "code",
   "execution_count": 34,
   "metadata": {},
   "outputs": [],
   "source": [
    "assembler = VectorAssembler()\\\n",
    "    .setHandleInvalid(\"skip\")\\\n",
    "    .setInputCols(assembler_cols)\\\n",
    "    .setOutputCol(\"unscaled_features\")"
   ]
  },
  {
   "cell_type": "markdown",
   "metadata": {},
   "source": [
    "### FEATURE SCALER"
   ]
  },
  {
   "cell_type": "code",
   "execution_count": 35,
   "metadata": {},
   "outputs": [],
   "source": [
    "from pyspark.ml.feature import StandardScaler"
   ]
  },
  {
   "cell_type": "code",
   "execution_count": 36,
   "metadata": {},
   "outputs": [],
   "source": [
    "scaler = StandardScaler()\\\n",
    "    .setInputCol(\"unscaled_features\")\\\n",
    "    .setOutputCol(\"features\")"
   ]
  },
  {
   "cell_type": "markdown",
   "metadata": {},
   "source": [
    "### PIPELINE"
   ]
  },
  {
   "cell_type": "code",
   "execution_count": 37,
   "metadata": {},
   "outputs": [],
   "source": [
    "from pyspark.ml import Pipeline"
   ]
  },
  {
   "cell_type": "code",
   "execution_count": 38,
   "metadata": {},
   "outputs": [],
   "source": [
    "pipeline_obj = Pipeline().setStages([assembler, scaler])"
   ]
  },
  {
   "cell_type": "code",
   "execution_count": 39,
   "metadata": {},
   "outputs": [],
   "source": [
    "pipeline_model = pipeline_obj.fit(rfm2)"
   ]
  },
  {
   "cell_type": "code",
   "execution_count": 40,
   "metadata": {},
   "outputs": [],
   "source": [
    "pipeline_df = pipeline_model.transform(rfm2)"
   ]
  },
  {
   "cell_type": "code",
   "execution_count": 41,
   "metadata": {
    "scrolled": true
   },
   "outputs": [
    {
     "data": {
      "text/html": [
       "<div>\n",
       "<style scoped>\n",
       "    .dataframe tbody tr th:only-of-type {\n",
       "        vertical-align: middle;\n",
       "    }\n",
       "\n",
       "    .dataframe tbody tr th {\n",
       "        vertical-align: top;\n",
       "    }\n",
       "\n",
       "    .dataframe thead th {\n",
       "        text-align: right;\n",
       "    }\n",
       "</style>\n",
       "<table border=\"1\" class=\"dataframe\">\n",
       "  <thead>\n",
       "    <tr style=\"text-align: right;\">\n",
       "      <th></th>\n",
       "      <th>master_id</th>\n",
       "      <th>Frequency</th>\n",
       "      <th>Monetary</th>\n",
       "      <th>Recency</th>\n",
       "      <th>unscaled_features</th>\n",
       "      <th>features</th>\n",
       "    </tr>\n",
       "  </thead>\n",
       "  <tbody>\n",
       "    <tr>\n",
       "      <th>0</th>\n",
       "      <td>b3ace094-a17f-11e9-a2fc-000d3a38a36f</td>\n",
       "      <td>1.0</td>\n",
       "      <td>212.98</td>\n",
       "      <td>829</td>\n",
       "      <td>[1.0, 212.98, 829.0]</td>\n",
       "      <td>[0.3277012075046896, 0.4598810576445157, 3.247...</td>\n",
       "    </tr>\n",
       "    <tr>\n",
       "      <th>1</th>\n",
       "      <td>c57d7c4c-a950-11e9-a2fc-000d3a38a36f</td>\n",
       "      <td>1.0</td>\n",
       "      <td>199.98</td>\n",
       "      <td>548</td>\n",
       "      <td>[1.0, 199.98, 548.0]</td>\n",
       "      <td>[0.3277012075046896, 0.43181056393910344, 2.14...</td>\n",
       "    </tr>\n",
       "    <tr>\n",
       "      <th>2</th>\n",
       "      <td>602897a6-cdac-11ea-b31f-000d3a38a36f</td>\n",
       "      <td>1.0</td>\n",
       "      <td>140.49</td>\n",
       "      <td>312</td>\n",
       "      <td>[1.0, 140.49, 312.0]</td>\n",
       "      <td>[0.3277012075046896, 0.3033556662056438, 1.222...</td>\n",
       "    </tr>\n",
       "    <tr>\n",
       "      <th>3</th>\n",
       "      <td>388e4c4e-af86-11e9-a2fc-000d3a38a36f</td>\n",
       "      <td>1.0</td>\n",
       "      <td>174.99</td>\n",
       "      <td>883</td>\n",
       "      <td>[1.0, 174.99, 883.0]</td>\n",
       "      <td>[0.3277012075046896, 0.3778504379623148, 3.459...</td>\n",
       "    </tr>\n",
       "    <tr>\n",
       "      <th>4</th>\n",
       "      <td>80664354-adf0-11eb-8f64-000d3a299ebf</td>\n",
       "      <td>2.0</td>\n",
       "      <td>283.95</td>\n",
       "      <td>27</td>\n",
       "      <td>[2.0, 283.95, 27.0]</td>\n",
       "      <td>[0.6554024150093792, 0.613124360588601, 0.1057...</td>\n",
       "    </tr>\n",
       "  </tbody>\n",
       "</table>\n",
       "</div>"
      ],
      "text/plain": [
       "                              master_id  Frequency  Monetary  Recency  \\\n",
       "0  b3ace094-a17f-11e9-a2fc-000d3a38a36f        1.0    212.98      829   \n",
       "1  c57d7c4c-a950-11e9-a2fc-000d3a38a36f        1.0    199.98      548   \n",
       "2  602897a6-cdac-11ea-b31f-000d3a38a36f        1.0    140.49      312   \n",
       "3  388e4c4e-af86-11e9-a2fc-000d3a38a36f        1.0    174.99      883   \n",
       "4  80664354-adf0-11eb-8f64-000d3a299ebf        2.0    283.95       27   \n",
       "\n",
       "      unscaled_features                                           features  \n",
       "0  [1.0, 212.98, 829.0]  [0.3277012075046896, 0.4598810576445157, 3.247...  \n",
       "1  [1.0, 199.98, 548.0]  [0.3277012075046896, 0.43181056393910344, 2.14...  \n",
       "2  [1.0, 140.49, 312.0]  [0.3277012075046896, 0.3033556662056438, 1.222...  \n",
       "3  [1.0, 174.99, 883.0]  [0.3277012075046896, 0.3778504379623148, 3.459...  \n",
       "4   [2.0, 283.95, 27.0]  [0.6554024150093792, 0.613124360588601, 0.1057...  "
      ]
     },
     "execution_count": 41,
     "metadata": {},
     "output_type": "execute_result"
    }
   ],
   "source": [
    "pipeline_df.limit(5).toPandas()"
   ]
  },
  {
   "cell_type": "markdown",
   "metadata": {},
   "source": [
    "### K-MEANS MODEL AND OPTIMUM CLUSTER DETERMINATION"
   ]
  },
  {
   "cell_type": "code",
   "execution_count": 42,
   "metadata": {},
   "outputs": [],
   "source": [
    "from pyspark.ml.clustering import KMeans\n",
    "\n",
    "def compute_kmeans_model(df, k):\n",
    "    kmeansObject = KMeans() \\\n",
    "        .setSeed(142) \\\n",
    "        .setK(k)\n",
    "    \n",
    "    return kmeansObject.fit(df)"
   ]
  },
  {
   "cell_type": "code",
   "execution_count": 43,
   "metadata": {},
   "outputs": [],
   "source": [
    "from pyspark.ml.evaluation import ClusteringEvaluator\n",
    "\n",
    "evaluator = ClusteringEvaluator()"
   ]
  },
  {
   "cell_type": "code",
   "execution_count": 44,
   "metadata": {},
   "outputs": [
    {
     "name": "stdout",
     "output_type": "stream",
     "text": [
      "k: 2, score: 0.4403260308625532\n",
      "k: 3, score: 0.6549567983919242\n",
      "k: 4, score: 0.6705380055471301\n",
      "k: 5, score: 0.506336181525216\n",
      "k: 6, score: 0.5124135578791428\n",
      "k: 7, score: 0.5471947591534061\n",
      "k: 8, score: 0.5710920011281075\n",
      "k: 9, score: 0.5310175131579818\n",
      "k: 10, score: 0.5571794995718166\n"
     ]
    }
   ],
   "source": [
    "for k in range(2,11):\n",
    "    kmeans_model = compute_kmeans_model(pipeline_df, k)\n",
    "    \n",
    "    transformed_df = kmeans_model.transform(pipeline_df)\n",
    "    \n",
    "    score = evaluator.evaluate(transformed_df)\n",
    "    \n",
    "    print(\"k: {}, score: {}\" .format(k, score))"
   ]
  },
  {
   "cell_type": "code",
   "execution_count": 45,
   "metadata": {},
   "outputs": [],
   "source": [
    "kmeans_model = compute_kmeans_model(pipeline_df, 4)"
   ]
  },
  {
   "cell_type": "markdown",
   "metadata": {},
   "source": [
    "### PREDICTION"
   ]
  },
  {
   "cell_type": "code",
   "execution_count": 46,
   "metadata": {},
   "outputs": [],
   "source": [
    "transformed_df = kmeans_model.transform(pipeline_df)"
   ]
  },
  {
   "cell_type": "code",
   "execution_count": 47,
   "metadata": {},
   "outputs": [
    {
     "data": {
      "text/html": [
       "<div>\n",
       "<style scoped>\n",
       "    .dataframe tbody tr th:only-of-type {\n",
       "        vertical-align: middle;\n",
       "    }\n",
       "\n",
       "    .dataframe tbody tr th {\n",
       "        vertical-align: top;\n",
       "    }\n",
       "\n",
       "    .dataframe thead th {\n",
       "        text-align: right;\n",
       "    }\n",
       "</style>\n",
       "<table border=\"1\" class=\"dataframe\">\n",
       "  <thead>\n",
       "    <tr style=\"text-align: right;\">\n",
       "      <th></th>\n",
       "      <th>master_id</th>\n",
       "      <th>Frequency</th>\n",
       "      <th>Monetary</th>\n",
       "      <th>Recency</th>\n",
       "      <th>unscaled_features</th>\n",
       "      <th>features</th>\n",
       "      <th>prediction</th>\n",
       "    </tr>\n",
       "  </thead>\n",
       "  <tbody>\n",
       "    <tr>\n",
       "      <th>0</th>\n",
       "      <td>b3ace094-a17f-11e9-a2fc-000d3a38a36f</td>\n",
       "      <td>1.0</td>\n",
       "      <td>212.98</td>\n",
       "      <td>829</td>\n",
       "      <td>[1.0, 212.98, 829.0]</td>\n",
       "      <td>[0.3277012075046896, 0.4598810576445157, 3.247...</td>\n",
       "      <td>3</td>\n",
       "    </tr>\n",
       "    <tr>\n",
       "      <th>1</th>\n",
       "      <td>c57d7c4c-a950-11e9-a2fc-000d3a38a36f</td>\n",
       "      <td>1.0</td>\n",
       "      <td>199.98</td>\n",
       "      <td>548</td>\n",
       "      <td>[1.0, 199.98, 548.0]</td>\n",
       "      <td>[0.3277012075046896, 0.43181056393910344, 2.14...</td>\n",
       "      <td>3</td>\n",
       "    </tr>\n",
       "    <tr>\n",
       "      <th>2</th>\n",
       "      <td>602897a6-cdac-11ea-b31f-000d3a38a36f</td>\n",
       "      <td>1.0</td>\n",
       "      <td>140.49</td>\n",
       "      <td>312</td>\n",
       "      <td>[1.0, 140.49, 312.0]</td>\n",
       "      <td>[0.3277012075046896, 0.3033556662056438, 1.222...</td>\n",
       "      <td>2</td>\n",
       "    </tr>\n",
       "    <tr>\n",
       "      <th>3</th>\n",
       "      <td>388e4c4e-af86-11e9-a2fc-000d3a38a36f</td>\n",
       "      <td>1.0</td>\n",
       "      <td>174.99</td>\n",
       "      <td>883</td>\n",
       "      <td>[1.0, 174.99, 883.0]</td>\n",
       "      <td>[0.3277012075046896, 0.3778504379623148, 3.459...</td>\n",
       "      <td>3</td>\n",
       "    </tr>\n",
       "    <tr>\n",
       "      <th>4</th>\n",
       "      <td>80664354-adf0-11eb-8f64-000d3a299ebf</td>\n",
       "      <td>2.0</td>\n",
       "      <td>283.95</td>\n",
       "      <td>27</td>\n",
       "      <td>[2.0, 283.95, 27.0]</td>\n",
       "      <td>[0.6554024150093792, 0.613124360588601, 0.1057...</td>\n",
       "      <td>2</td>\n",
       "    </tr>\n",
       "    <tr>\n",
       "      <th>5</th>\n",
       "      <td>47511f36-aeb4-11e9-a2fc-000d3a38a36f</td>\n",
       "      <td>1.0</td>\n",
       "      <td>139.98</td>\n",
       "      <td>933</td>\n",
       "      <td>[1.0, 139.98, 933.0]</td>\n",
       "      <td>[0.3277012075046896, 0.302254439144893, 3.6553...</td>\n",
       "      <td>3</td>\n",
       "    </tr>\n",
       "    <tr>\n",
       "      <th>6</th>\n",
       "      <td>77f7c318-3407-11eb-9a15-000d3a38a36f</td>\n",
       "      <td>1.0</td>\n",
       "      <td>269.90</td>\n",
       "      <td>182</td>\n",
       "      <td>[1.0, 269.9, 182.0]</td>\n",
       "      <td>[0.3277012075046896, 0.58278663469929, 0.71305...</td>\n",
       "      <td>2</td>\n",
       "    </tr>\n",
       "    <tr>\n",
       "      <th>7</th>\n",
       "      <td>399d6dd2-ecf1-11ea-9369-000d3a38a36f</td>\n",
       "      <td>1.0</td>\n",
       "      <td>95.73</td>\n",
       "      <td>272</td>\n",
       "      <td>[1.0, 95.73, 272.0]</td>\n",
       "      <td>[0.3277012075046896, 0.20670679710916282, 1.06...</td>\n",
       "      <td>2</td>\n",
       "    </tr>\n",
       "    <tr>\n",
       "      <th>8</th>\n",
       "      <td>b3d4a6f2-a368-11e9-a2fc-000d3a38a36f</td>\n",
       "      <td>3.0</td>\n",
       "      <td>207.94</td>\n",
       "      <td>250</td>\n",
       "      <td>[3.0, 207.94, 250.0]</td>\n",
       "      <td>[0.9831036225140688, 0.44899834316180204, 0.97...</td>\n",
       "      <td>2</td>\n",
       "    </tr>\n",
       "    <tr>\n",
       "      <th>9</th>\n",
       "      <td>42fdccd4-f1d1-11ea-bde9-000d3a38a36f</td>\n",
       "      <td>1.0</td>\n",
       "      <td>134.95</td>\n",
       "      <td>226</td>\n",
       "      <td>[1.0, 134.95, 226.0]</td>\n",
       "      <td>[0.3277012075046896, 0.291393317349645, 0.8854...</td>\n",
       "      <td>2</td>\n",
       "    </tr>\n",
       "  </tbody>\n",
       "</table>\n",
       "</div>"
      ],
      "text/plain": [
       "                              master_id  Frequency  Monetary  Recency  \\\n",
       "0  b3ace094-a17f-11e9-a2fc-000d3a38a36f        1.0    212.98      829   \n",
       "1  c57d7c4c-a950-11e9-a2fc-000d3a38a36f        1.0    199.98      548   \n",
       "2  602897a6-cdac-11ea-b31f-000d3a38a36f        1.0    140.49      312   \n",
       "3  388e4c4e-af86-11e9-a2fc-000d3a38a36f        1.0    174.99      883   \n",
       "4  80664354-adf0-11eb-8f64-000d3a299ebf        2.0    283.95       27   \n",
       "5  47511f36-aeb4-11e9-a2fc-000d3a38a36f        1.0    139.98      933   \n",
       "6  77f7c318-3407-11eb-9a15-000d3a38a36f        1.0    269.90      182   \n",
       "7  399d6dd2-ecf1-11ea-9369-000d3a38a36f        1.0     95.73      272   \n",
       "8  b3d4a6f2-a368-11e9-a2fc-000d3a38a36f        3.0    207.94      250   \n",
       "9  42fdccd4-f1d1-11ea-bde9-000d3a38a36f        1.0    134.95      226   \n",
       "\n",
       "      unscaled_features                                           features  \\\n",
       "0  [1.0, 212.98, 829.0]  [0.3277012075046896, 0.4598810576445157, 3.247...   \n",
       "1  [1.0, 199.98, 548.0]  [0.3277012075046896, 0.43181056393910344, 2.14...   \n",
       "2  [1.0, 140.49, 312.0]  [0.3277012075046896, 0.3033556662056438, 1.222...   \n",
       "3  [1.0, 174.99, 883.0]  [0.3277012075046896, 0.3778504379623148, 3.459...   \n",
       "4   [2.0, 283.95, 27.0]  [0.6554024150093792, 0.613124360588601, 0.1057...   \n",
       "5  [1.0, 139.98, 933.0]  [0.3277012075046896, 0.302254439144893, 3.6553...   \n",
       "6   [1.0, 269.9, 182.0]  [0.3277012075046896, 0.58278663469929, 0.71305...   \n",
       "7   [1.0, 95.73, 272.0]  [0.3277012075046896, 0.20670679710916282, 1.06...   \n",
       "8  [3.0, 207.94, 250.0]  [0.9831036225140688, 0.44899834316180204, 0.97...   \n",
       "9  [1.0, 134.95, 226.0]  [0.3277012075046896, 0.291393317349645, 0.8854...   \n",
       "\n",
       "   prediction  \n",
       "0           3  \n",
       "1           3  \n",
       "2           2  \n",
       "3           3  \n",
       "4           2  \n",
       "5           3  \n",
       "6           2  \n",
       "7           2  \n",
       "8           2  \n",
       "9           2  "
      ]
     },
     "execution_count": 47,
     "metadata": {},
     "output_type": "execute_result"
    }
   ],
   "source": [
    "transformed_df.limit(10).toPandas()"
   ]
  },
  {
   "cell_type": "markdown",
   "metadata": {},
   "source": [
    "### DESCRIPTIVE STATISTICSB"
   ]
  },
  {
   "cell_type": "code",
   "execution_count": 48,
   "metadata": {},
   "outputs": [
    {
     "name": "stdout",
     "output_type": "stream",
     "text": [
      "+----------+------------------+----------------------+--------------+--------------+\n",
      "|prediction|    avg(Frequency)|stddev_samp(Frequency)|max(Frequency)|min(Frequency)|\n",
      "+----------+------------------+----------------------+--------------+--------------+\n",
      "|         1|226.83333333333334|    104.16221323813481|         377.0|          89.0|\n",
      "|         3| 1.447839403668032|    0.8938539521651988|          10.0|           1.0|\n",
      "|         2| 2.090466397182233|    1.3865696565489902|          10.0|           1.0|\n",
      "|         0|10.410821643286573|     7.283638849228587|         126.0|           1.0|\n",
      "+----------+------------------+----------------------+--------------+--------------+\n",
      "\n"
     ]
    }
   ],
   "source": [
    "transformed_df.groupBy(\"prediction\").agg(F.mean(\"Frequency\"), F.stddev_samp(\"Frequency\"), F.max(\"Frequency\"), F.min(\"Frequency\")).show()"
   ]
  },
  {
   "cell_type": "code",
   "execution_count": 49,
   "metadata": {},
   "outputs": [
    {
     "name": "stdout",
     "output_type": "stream",
     "text": [
      "+----------+------------------+---------------------+-------------+-------------+\n",
      "|prediction|     avg(Monetary)|stddev_samp(Monetary)|max(Monetary)|min(Monetary)|\n",
      "+----------+------------------+---------------------+-------------+-------------+\n",
      "|         1| 31003.60666666667|   12517.356352959947|     51178.23|     17005.69|\n",
      "|         3|179.76939407365893|   145.10751558956022|      1415.02|          0.0|\n",
      "|         2| 317.2782289672691|   239.24831915230445|      1689.94|          0.0|\n",
      "|         0|1677.1947953048953|   1074.3630748492496|     18905.75|       199.98|\n",
      "+----------+------------------+---------------------+-------------+-------------+\n",
      "\n"
     ]
    }
   ],
   "source": [
    "transformed_df.groupBy(\"prediction\").agg(F.mean(\"Monetary\"), F.stddev_samp(\"Monetary\"), F.max(\"Monetary\"), F.min(\"Monetary\")).show()"
   ]
  },
  {
   "cell_type": "code",
   "execution_count": 50,
   "metadata": {},
   "outputs": [
    {
     "name": "stdout",
     "output_type": "stream",
     "text": [
      "+----------+------------------+--------------------+------------+------------+\n",
      "|prediction|      avg(Recency)|stddev_samp(Recency)|max(Recency)|min(Recency)|\n",
      "+----------+------------------+--------------------+------------+------------+\n",
      "|         1|             343.5|  262.99866919815395|         657|          24|\n",
      "|         3| 615.3469131702277|  134.83233257633717|        1097|         366|\n",
      "|         2|173.50268302484457|   115.6755916356068|         521|           2|\n",
      "|         0|191.19982822788435|  204.17005644138567|        1089|           2|\n",
      "+----------+------------------+--------------------+------------+------------+\n",
      "\n"
     ]
    }
   ],
   "source": [
    "transformed_df.groupBy(\"prediction\").agg(F.mean(\"Recency\"), F.stddev_samp(\"Recency\"), F.max(\"Recency\"), F.min(\"Recency\")).show()"
   ]
  },
  {
   "cell_type": "code",
   "execution_count": null,
   "metadata": {},
   "outputs": [],
   "source": []
  }
 ],
 "metadata": {
  "kernelspec": {
   "display_name": "venvspark",
   "language": "python",
   "name": "venvspark"
  },
  "language_info": {
   "codemirror_mode": {
    "name": "ipython",
    "version": 3
   },
   "file_extension": ".py",
   "mimetype": "text/x-python",
   "name": "python",
   "nbconvert_exporter": "python",
   "pygments_lexer": "ipython3",
   "version": "3.6.8"
  }
 },
 "nbformat": 4,
 "nbformat_minor": 4
}
