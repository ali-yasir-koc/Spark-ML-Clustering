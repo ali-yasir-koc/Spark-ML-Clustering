{
 "cells": [
  {
   "cell_type": "markdown",
   "id": "b3372a34-95b0-4697-9d80-dc31acdbf273",
   "metadata": {
    "tags": []
   },
   "source": [
    "### IMPORT LIBRARY AND OPEN SPARK SESSION"
   ]
  },
  {
   "cell_type": "code",
   "execution_count": null,
   "id": "3f994e38-ae5b-4d81-afeb-b69197ca4937",
   "metadata": {},
   "outputs": [],
   "source": [
    "import findspark\n",
    "findspark.init(\"C:\\spark\")\n",
    "import pandas as pd"
   ]
  },
  {
   "cell_type": "code",
   "execution_count": 84,
   "id": "d23be89f-5886-4866-93f2-c3f438fea470",
   "metadata": {
    "tags": []
   },
   "outputs": [],
   "source": [
    "import warnings\n",
    "warnings.filterwarnings(\"ignore\", category=FutureWarning)"
   ]
  },
  {
   "cell_type": "code",
   "execution_count": 30,
   "id": "92a5fb3c-f910-4d1a-af52-97fe0a4157dc",
   "metadata": {
    "tags": []
   },
   "outputs": [],
   "source": [
    "import pyspark\n",
    "from pyspark import SparkContext\n",
    "from pyspark.conf import SparkConf\n",
    "from pyspark.sql import SparkSession, functions as F\n",
    "spark = SparkSession.builder\\\n",
    "                    .master(\"yarn\")\\\n",
    "                    .appName(\"Clustering_KNN\")\\\n",
    "                    .getOrCreate()\n",
    "sc = spark.sparkContext"
   ]
  },
  {
   "cell_type": "markdown",
   "id": "06bcc1ef-b964-4b13-9096-0152b4aa7f5c",
   "metadata": {},
   "source": [
    "### READ DATA"
   ]
  },
  {
   "cell_type": "code",
   "execution_count": 67,
   "id": "dba2b5b4-b0d4-4a38-acda-7b96ac85e209",
   "metadata": {},
   "outputs": [],
   "source": [
    "df = spark.read.csv(\"flo100k_data.csv\", header=True, inferSchema=True, sep=\"|\")"
   ]
  },
  {
   "cell_type": "markdown",
   "id": "ab49a120-d0e9-456b-8b24-ea0a90c31525",
   "metadata": {},
   "source": [
    "### EXPLORE DATA"
   ]
  },
  {
   "cell_type": "code",
   "execution_count": 68,
   "id": "422a58f4-675d-4820-95f8-222a7f5ed49c",
   "metadata": {
    "collapsed": true,
    "jupyter": {
     "outputs_hidden": true
    },
    "tags": []
   },
   "outputs": [
    {
     "name": "stderr",
     "output_type": "stream",
     "text": [
      "C:\\spark\\python\\pyspark\\sql\\pandas\\conversion.py:251: FutureWarning: Passing unit-less datetime64 dtype to .astype is deprecated and will raise in a future version. Pass 'datetime64[ns]' instead\n",
      "  series = series.astype(t, copy=False)\n",
      "C:\\spark\\python\\pyspark\\sql\\pandas\\conversion.py:251: FutureWarning: Passing unit-less datetime64 dtype to .astype is deprecated and will raise in a future version. Pass 'datetime64[ns]' instead\n",
      "  series = series.astype(t, copy=False)\n",
      "C:\\spark\\python\\pyspark\\sql\\pandas\\conversion.py:251: FutureWarning: Passing unit-less datetime64 dtype to .astype is deprecated and will raise in a future version. Pass 'datetime64[ns]' instead\n",
      "  series = series.astype(t, copy=False)\n",
      "C:\\spark\\python\\pyspark\\sql\\pandas\\conversion.py:251: FutureWarning: Passing unit-less datetime64 dtype to .astype is deprecated and will raise in a future version. Pass 'datetime64[ns]' instead\n",
      "  series = series.astype(t, copy=False)\n"
     ]
    },
    {
     "data": {
      "text/html": [
       "<div>\n",
       "<style scoped>\n",
       "    .dataframe tbody tr th:only-of-type {\n",
       "        vertical-align: middle;\n",
       "    }\n",
       "\n",
       "    .dataframe tbody tr th {\n",
       "        vertical-align: top;\n",
       "    }\n",
       "\n",
       "    .dataframe thead th {\n",
       "        text-align: right;\n",
       "    }\n",
       "</style>\n",
       "<table border=\"1\" class=\"dataframe\">\n",
       "  <thead>\n",
       "    <tr style=\"text-align: right;\">\n",
       "      <th></th>\n",
       "      <th>_c0</th>\n",
       "      <th>master_id</th>\n",
       "      <th>order_channel</th>\n",
       "      <th>platform_type</th>\n",
       "      <th>last_order_channel</th>\n",
       "      <th>first_order_date</th>\n",
       "      <th>last_order_date</th>\n",
       "      <th>last_order_date_online</th>\n",
       "      <th>last_order_date_offline</th>\n",
       "      <th>order_num_total_ever_online</th>\n",
       "      <th>order_num_total_ever_offline</th>\n",
       "      <th>customer_value_total_ever_offline</th>\n",
       "      <th>customer_value_total_ever_online</th>\n",
       "      <th>interested_in_categories_12</th>\n",
       "      <th>last_order_date_new</th>\n",
       "    </tr>\n",
       "  </thead>\n",
       "  <tbody>\n",
       "    <tr>\n",
       "      <th>0</th>\n",
       "      <td>0</td>\n",
       "      <td>b3ace094-a17f-11e9-a2fc-000d3a38a36f</td>\n",
       "      <td>Offline</td>\n",
       "      <td>Offline</td>\n",
       "      <td>Offline</td>\n",
       "      <td>2019-02-23 12:59:17</td>\n",
       "      <td>2019-02-23 12:59:17</td>\n",
       "      <td>NaT</td>\n",
       "      <td>2019-02-23 12:59:17</td>\n",
       "      <td>NaN</td>\n",
       "      <td>1.0</td>\n",
       "      <td>212.98</td>\n",
       "      <td>0.00</td>\n",
       "      <td>None</td>\n",
       "      <td>2019-02-23</td>\n",
       "    </tr>\n",
       "    <tr>\n",
       "      <th>1</th>\n",
       "      <td>1</td>\n",
       "      <td>c57d7c4c-a950-11e9-a2fc-000d3a38a36f</td>\n",
       "      <td>Offline</td>\n",
       "      <td>OmniChannel</td>\n",
       "      <td>Offline</td>\n",
       "      <td>2019-12-01 16:48:09</td>\n",
       "      <td>2019-12-01 16:48:09</td>\n",
       "      <td>NaT</td>\n",
       "      <td>2019-12-01 16:48:09</td>\n",
       "      <td>NaN</td>\n",
       "      <td>1.0</td>\n",
       "      <td>199.98</td>\n",
       "      <td>0.00</td>\n",
       "      <td>None</td>\n",
       "      <td>2019-12-01</td>\n",
       "    </tr>\n",
       "    <tr>\n",
       "      <th>2</th>\n",
       "      <td>2</td>\n",
       "      <td>602897a6-cdac-11ea-b31f-000d3a38a36f</td>\n",
       "      <td>Offline</td>\n",
       "      <td>Offline</td>\n",
       "      <td>Offline</td>\n",
       "      <td>2020-07-24 15:49:47</td>\n",
       "      <td>2020-07-24 15:49:47</td>\n",
       "      <td>NaT</td>\n",
       "      <td>2020-07-24 15:49:47</td>\n",
       "      <td>NaN</td>\n",
       "      <td>1.0</td>\n",
       "      <td>140.49</td>\n",
       "      <td>0.00</td>\n",
       "      <td>[ERKEK]</td>\n",
       "      <td>2020-07-24</td>\n",
       "    </tr>\n",
       "    <tr>\n",
       "      <th>3</th>\n",
       "      <td>3</td>\n",
       "      <td>388e4c4e-af86-11e9-a2fc-000d3a38a36f</td>\n",
       "      <td>Mobile</td>\n",
       "      <td>Online</td>\n",
       "      <td>Mobile</td>\n",
       "      <td>2018-12-31 07:22:07</td>\n",
       "      <td>2018-12-31 07:22:07</td>\n",
       "      <td>2018-12-31 07:22:07</td>\n",
       "      <td>NaT</td>\n",
       "      <td>1.0</td>\n",
       "      <td>NaN</td>\n",
       "      <td>0.00</td>\n",
       "      <td>174.99</td>\n",
       "      <td>None</td>\n",
       "      <td>2018-12-31</td>\n",
       "    </tr>\n",
       "    <tr>\n",
       "      <th>4</th>\n",
       "      <td>4</td>\n",
       "      <td>80664354-adf0-11eb-8f64-000d3a299ebf</td>\n",
       "      <td>Desktop</td>\n",
       "      <td>Online</td>\n",
       "      <td>Desktop</td>\n",
       "      <td>2021-05-05 21:07:02</td>\n",
       "      <td>2021-05-05 22:39:36</td>\n",
       "      <td>2021-05-05 22:39:36</td>\n",
       "      <td>NaT</td>\n",
       "      <td>2.0</td>\n",
       "      <td>NaN</td>\n",
       "      <td>0.00</td>\n",
       "      <td>283.95</td>\n",
       "      <td>[]</td>\n",
       "      <td>2021-05-05</td>\n",
       "    </tr>\n",
       "  </tbody>\n",
       "</table>\n",
       "</div>"
      ],
      "text/plain": [
       "   _c0                             master_id order_channel platform_type  \\\n",
       "0    0  b3ace094-a17f-11e9-a2fc-000d3a38a36f       Offline       Offline   \n",
       "1    1  c57d7c4c-a950-11e9-a2fc-000d3a38a36f       Offline   OmniChannel   \n",
       "2    2  602897a6-cdac-11ea-b31f-000d3a38a36f       Offline       Offline   \n",
       "3    3  388e4c4e-af86-11e9-a2fc-000d3a38a36f        Mobile        Online   \n",
       "4    4  80664354-adf0-11eb-8f64-000d3a299ebf       Desktop        Online   \n",
       "\n",
       "  last_order_channel    first_order_date     last_order_date  \\\n",
       "0            Offline 2019-02-23 12:59:17 2019-02-23 12:59:17   \n",
       "1            Offline 2019-12-01 16:48:09 2019-12-01 16:48:09   \n",
       "2            Offline 2020-07-24 15:49:47 2020-07-24 15:49:47   \n",
       "3             Mobile 2018-12-31 07:22:07 2018-12-31 07:22:07   \n",
       "4            Desktop 2021-05-05 21:07:02 2021-05-05 22:39:36   \n",
       "\n",
       "  last_order_date_online last_order_date_offline  order_num_total_ever_online  \\\n",
       "0                    NaT     2019-02-23 12:59:17                          NaN   \n",
       "1                    NaT     2019-12-01 16:48:09                          NaN   \n",
       "2                    NaT     2020-07-24 15:49:47                          NaN   \n",
       "3    2018-12-31 07:22:07                     NaT                          1.0   \n",
       "4    2021-05-05 22:39:36                     NaT                          2.0   \n",
       "\n",
       "   order_num_total_ever_offline  customer_value_total_ever_offline  \\\n",
       "0                           1.0                             212.98   \n",
       "1                           1.0                             199.98   \n",
       "2                           1.0                             140.49   \n",
       "3                           NaN                               0.00   \n",
       "4                           NaN                               0.00   \n",
       "\n",
       "   customer_value_total_ever_online interested_in_categories_12  \\\n",
       "0                              0.00                        None   \n",
       "1                              0.00                        None   \n",
       "2                              0.00                     [ERKEK]   \n",
       "3                            174.99                        None   \n",
       "4                            283.95                          []   \n",
       "\n",
       "  last_order_date_new  \n",
       "0          2019-02-23  \n",
       "1          2019-12-01  \n",
       "2          2020-07-24  \n",
       "3          2018-12-31  \n",
       "4          2021-05-05  "
      ]
     },
     "execution_count": 68,
     "metadata": {},
     "output_type": "execute_result"
    }
   ],
   "source": [
    "df.limit(5).toPandas()"
   ]
  },
  {
   "cell_type": "code",
   "execution_count": 69,
   "id": "6db56cb9-c38e-45c7-b453-2aa089c3894e",
   "metadata": {},
   "outputs": [
    {
     "name": "stdout",
     "output_type": "stream",
     "text": [
      "100000\n"
     ]
    }
   ],
   "source": [
    "df_count = df.count()\n",
    "print(df_count)"
   ]
  },
  {
   "cell_type": "code",
   "execution_count": 15,
   "id": "e57e2f80-bfd2-4af3-a7c8-1e0dd1bea2da",
   "metadata": {},
   "outputs": [
    {
     "data": {
      "text/plain": [
       "15"
      ]
     },
     "execution_count": 15,
     "metadata": {},
     "output_type": "execute_result"
    }
   ],
   "source": [
    "len(df.columns)"
   ]
  },
  {
   "cell_type": "code",
   "execution_count": 70,
   "id": "945c8126-04df-4f0a-8036-c748d8a8df92",
   "metadata": {
    "collapsed": true,
    "jupyter": {
     "outputs_hidden": true
    },
    "tags": []
   },
   "outputs": [
    {
     "name": "stdout",
     "output_type": "stream",
     "text": [
      "root\n",
      " |-- _c0: integer (nullable = true)\n",
      " |-- master_id: string (nullable = true)\n",
      " |-- order_channel: string (nullable = true)\n",
      " |-- platform_type: string (nullable = true)\n",
      " |-- last_order_channel: string (nullable = true)\n",
      " |-- first_order_date: timestamp (nullable = true)\n",
      " |-- last_order_date: timestamp (nullable = true)\n",
      " |-- last_order_date_online: timestamp (nullable = true)\n",
      " |-- last_order_date_offline: timestamp (nullable = true)\n",
      " |-- order_num_total_ever_online: double (nullable = true)\n",
      " |-- order_num_total_ever_offline: double (nullable = true)\n",
      " |-- customer_value_total_ever_offline: double (nullable = true)\n",
      " |-- customer_value_total_ever_online: double (nullable = true)\n",
      " |-- interested_in_categories_12: string (nullable = true)\n",
      " |-- last_order_date_new: date (nullable = true)\n",
      "\n"
     ]
    }
   ],
   "source": [
    "df.printSchema()"
   ]
  },
  {
   "cell_type": "code",
   "execution_count": 71,
   "id": "18c0e979-1115-4722-8a3b-64bf75dcc975",
   "metadata": {},
   "outputs": [],
   "source": [
    "df = df.drop(\"_c0\")"
   ]
  },
  {
   "cell_type": "markdown",
   "id": "b5858ba9-1284-494d-9302-6c48229cc9ff",
   "metadata": {},
   "source": [
    "### NULL CHECK"
   ]
  },
  {
   "cell_type": "code",
   "execution_count": 47,
   "id": "84df0a89-3026-40e4-9bba-a1fde87b4abb",
   "metadata": {
    "tags": []
   },
   "outputs": [],
   "source": [
    "def null_count(dataframe, col_name):\n",
    "    nc = dataframe.select(col_name).filter(\n",
    "                                              (F.col(col_name) == \"NA\") |\n",
    "                                              (F.col(col_name).isNull()) |\n",
    "                                              (F.col(col_name) == \"\")).count()\n",
    "    return nc"
   ]
  },
  {
   "cell_type": "code",
   "execution_count": 34,
   "id": "a8190c87-5de2-4f17-a912-46b7a36f3057",
   "metadata": {},
   "outputs": [
    {
     "data": {
      "text/plain": [
       "56590"
      ]
     },
     "execution_count": 34,
     "metadata": {},
     "output_type": "execute_result"
    }
   ],
   "source": [
    "df.select(\"interested_in_categories_12\").filter(\n",
    "                                              (F.col(\"interested_in_categories_12\") == \"NA\") |\n",
    "                                              (F.col(\"interested_in_categories_12\").isNull()) |\n",
    "                                              (F.col(\"interested_in_categories_12\") == \"\")).count()"
   ]
  },
  {
   "cell_type": "code",
   "execution_count": 43,
   "id": "cb8a72c8-352c-4751-b544-55caee2eecb3",
   "metadata": {},
   "outputs": [
    {
     "data": {
      "text/plain": [
       "56590"
      ]
     },
     "execution_count": 43,
     "metadata": {},
     "output_type": "execute_result"
    }
   ],
   "source": [
    "null_count(df, \"interested_in_categories_12\")"
   ]
  },
  {
   "cell_type": "code",
   "execution_count": 83,
   "id": "b73601a7-63b9-4d39-b9e7-0d82f0b59cc1",
   "metadata": {},
   "outputs": [
    {
     "name": "stdout",
     "output_type": "stream",
     "text": [
      "last_order_date_online has 70784 null value and % 70.784\n",
      "last_order_date_offline has 21703 null value and % 21.703\n",
      "interested_in_categories_12 has 56590 null value and % 56.589999999999996\n"
     ]
    }
   ],
   "source": [
    "for col_name in df.dtypes:\n",
    "    nc = null_count(df, col_name[0])\n",
    "    if nc > 0:\n",
    "        print(\"{} has {} null value and % {}\".format(col_name[0], nc, (nc/df_count)*100))"
   ]
  },
  {
   "cell_type": "markdown",
   "id": "d5f4ec38-f951-454b-9880-09cad7268158",
   "metadata": {},
   "source": [
    "### IS MASTER ID UNIQUE?"
   ]
  },
  {
   "cell_type": "code",
   "execution_count": 73,
   "id": "4fd0ac79-f665-4163-8aa2-4d70fb59324d",
   "metadata": {},
   "outputs": [
    {
     "data": {
      "text/plain": [
       "True"
      ]
     },
     "execution_count": 73,
     "metadata": {},
     "output_type": "execute_result"
    }
   ],
   "source": [
    "df.select(\"master_id\").distinct().count() == df.count()"
   ]
  },
  {
   "cell_type": "markdown",
   "id": "69b9eb73-9e0b-49f9-a001-016a5fa9458b",
   "metadata": {},
   "source": [
    "### DATA UNDERSTANDING"
   ]
  },
  {
   "cell_type": "code",
   "execution_count": 74,
   "id": "0a29cc6a-8189-453a-9c32-574d96d17902",
   "metadata": {},
   "outputs": [
    {
     "name": "stdout",
     "output_type": "stream",
     "text": [
      "+-------------+-------------+-----+\n",
      "|platform_type|order_channel|count|\n",
      "+-------------+-------------+-----+\n",
      "|       Online|       Mobile| 6451|\n",
      "|       Online|  Android App| 8728|\n",
      "|  OmniChannel|      Offline| 4793|\n",
      "|      Offline|      Offline|65991|\n",
      "|  OmniChannel|  Android App| 3261|\n",
      "|       Online|      Ios App| 3008|\n",
      "|  OmniChannel|      Ios App|  956|\n",
      "|       Online|      Desktop| 3253|\n",
      "|  OmniChannel|       Mobile| 2061|\n",
      "|  OmniChannel|      Desktop| 1498|\n",
      "+-------------+-------------+-----+\n",
      "\n"
     ]
    }
   ],
   "source": [
    "df.groupBy([\"platform_type\", \"order_channel\"]).count().show()"
   ]
  },
  {
   "cell_type": "markdown",
   "id": "445c0d04-b237-4478-ab43-07769c52178b",
   "metadata": {},
   "source": [
    "### CREATE NEW COLUMN FROM DF COLUMNS"
   ]
  },
  {
   "cell_type": "code",
   "execution_count": 75,
   "id": "1b8b45b1-ca42-481a-825d-4eabb0377d87",
   "metadata": {},
   "outputs": [],
   "source": [
    "df = df.fillna(0, subset=[\"order_num_total_ever_online\",\"order_num_total_ever_offline\"])"
   ]
  },
  {
   "cell_type": "code",
   "execution_count": 99,
   "id": "e16a7c88-2008-49ba-8130-ed81035a4255",
   "metadata": {
    "tags": []
   },
   "outputs": [],
   "source": [
    "df1 = df.withColumn(\"order_num_total\", F.col(\"order_num_total_ever_online\") + F.col(\"order_num_total_ever_offline\"))\\\n",
    "        .withColumn(\"customer_value_total\", F.col(\"customer_value_total_ever_online\") + F.col(\"customer_value_total_ever_offline\"))\n"
   ]
  },
  {
   "cell_type": "code",
   "execution_count": 100,
   "id": "207bae45-0a09-4bdf-9e75-e51fc1c5374b",
   "metadata": {
    "tags": []
   },
   "outputs": [
    {
     "data": {
      "text/html": [
       "<div>\n",
       "<style scoped>\n",
       "    .dataframe tbody tr th:only-of-type {\n",
       "        vertical-align: middle;\n",
       "    }\n",
       "\n",
       "    .dataframe tbody tr th {\n",
       "        vertical-align: top;\n",
       "    }\n",
       "\n",
       "    .dataframe thead th {\n",
       "        text-align: right;\n",
       "    }\n",
       "</style>\n",
       "<table border=\"1\" class=\"dataframe\">\n",
       "  <thead>\n",
       "    <tr style=\"text-align: right;\">\n",
       "      <th></th>\n",
       "      <th>master_id</th>\n",
       "      <th>order_channel</th>\n",
       "      <th>platform_type</th>\n",
       "      <th>last_order_channel</th>\n",
       "      <th>first_order_date</th>\n",
       "      <th>last_order_date</th>\n",
       "      <th>last_order_date_online</th>\n",
       "      <th>last_order_date_offline</th>\n",
       "      <th>order_num_total_ever_online</th>\n",
       "      <th>order_num_total_ever_offline</th>\n",
       "      <th>customer_value_total_ever_offline</th>\n",
       "      <th>customer_value_total_ever_online</th>\n",
       "      <th>interested_in_categories_12</th>\n",
       "      <th>last_order_date_new</th>\n",
       "      <th>order_num_total</th>\n",
       "      <th>customer_value_total</th>\n",
       "    </tr>\n",
       "  </thead>\n",
       "  <tbody>\n",
       "    <tr>\n",
       "      <th>0</th>\n",
       "      <td>b3ace094-a17f-11e9-a2fc-000d3a38a36f</td>\n",
       "      <td>Offline</td>\n",
       "      <td>Offline</td>\n",
       "      <td>Offline</td>\n",
       "      <td>2019-02-23 12:59:17</td>\n",
       "      <td>2019-02-23 12:59:17</td>\n",
       "      <td>NaT</td>\n",
       "      <td>2019-02-23 12:59:17</td>\n",
       "      <td>0.0</td>\n",
       "      <td>1.0</td>\n",
       "      <td>212.98</td>\n",
       "      <td>0.0</td>\n",
       "      <td>None</td>\n",
       "      <td>2019-02-23</td>\n",
       "      <td>1.0</td>\n",
       "      <td>212.98</td>\n",
       "    </tr>\n",
       "    <tr>\n",
       "      <th>1</th>\n",
       "      <td>c57d7c4c-a950-11e9-a2fc-000d3a38a36f</td>\n",
       "      <td>Offline</td>\n",
       "      <td>OmniChannel</td>\n",
       "      <td>Offline</td>\n",
       "      <td>2019-12-01 16:48:09</td>\n",
       "      <td>2019-12-01 16:48:09</td>\n",
       "      <td>NaT</td>\n",
       "      <td>2019-12-01 16:48:09</td>\n",
       "      <td>0.0</td>\n",
       "      <td>1.0</td>\n",
       "      <td>199.98</td>\n",
       "      <td>0.0</td>\n",
       "      <td>None</td>\n",
       "      <td>2019-12-01</td>\n",
       "      <td>1.0</td>\n",
       "      <td>199.98</td>\n",
       "    </tr>\n",
       "    <tr>\n",
       "      <th>2</th>\n",
       "      <td>602897a6-cdac-11ea-b31f-000d3a38a36f</td>\n",
       "      <td>Offline</td>\n",
       "      <td>Offline</td>\n",
       "      <td>Offline</td>\n",
       "      <td>2020-07-24 15:49:47</td>\n",
       "      <td>2020-07-24 15:49:47</td>\n",
       "      <td>NaT</td>\n",
       "      <td>2020-07-24 15:49:47</td>\n",
       "      <td>0.0</td>\n",
       "      <td>1.0</td>\n",
       "      <td>140.49</td>\n",
       "      <td>0.0</td>\n",
       "      <td>[ERKEK]</td>\n",
       "      <td>2020-07-24</td>\n",
       "      <td>1.0</td>\n",
       "      <td>140.49</td>\n",
       "    </tr>\n",
       "  </tbody>\n",
       "</table>\n",
       "</div>"
      ],
      "text/plain": [
       "                              master_id order_channel platform_type  \\\n",
       "0  b3ace094-a17f-11e9-a2fc-000d3a38a36f       Offline       Offline   \n",
       "1  c57d7c4c-a950-11e9-a2fc-000d3a38a36f       Offline   OmniChannel   \n",
       "2  602897a6-cdac-11ea-b31f-000d3a38a36f       Offline       Offline   \n",
       "\n",
       "  last_order_channel    first_order_date     last_order_date  \\\n",
       "0            Offline 2019-02-23 12:59:17 2019-02-23 12:59:17   \n",
       "1            Offline 2019-12-01 16:48:09 2019-12-01 16:48:09   \n",
       "2            Offline 2020-07-24 15:49:47 2020-07-24 15:49:47   \n",
       "\n",
       "  last_order_date_online last_order_date_offline  order_num_total_ever_online  \\\n",
       "0                    NaT     2019-02-23 12:59:17                          0.0   \n",
       "1                    NaT     2019-12-01 16:48:09                          0.0   \n",
       "2                    NaT     2020-07-24 15:49:47                          0.0   \n",
       "\n",
       "   order_num_total_ever_offline  customer_value_total_ever_offline  \\\n",
       "0                           1.0                             212.98   \n",
       "1                           1.0                             199.98   \n",
       "2                           1.0                             140.49   \n",
       "\n",
       "   customer_value_total_ever_online interested_in_categories_12  \\\n",
       "0                               0.0                        None   \n",
       "1                               0.0                        None   \n",
       "2                               0.0                     [ERKEK]   \n",
       "\n",
       "  last_order_date_new  order_num_total  customer_value_total  \n",
       "0          2019-02-23              1.0                212.98  \n",
       "1          2019-12-01              1.0                199.98  \n",
       "2          2020-07-24              1.0                140.49  "
      ]
     },
     "execution_count": 100,
     "metadata": {},
     "output_type": "execute_result"
    }
   ],
   "source": [
    "df1.limit(3).toPandas()"
   ]
  },
  {
   "cell_type": "markdown",
   "id": "94e47207-c961-4a0f-aa7f-e622a9ecccb9",
   "metadata": {},
   "source": [
    "### ANALYSIS ORDER CHANNEL AND PLATFORM"
   ]
  },
  {
   "cell_type": "code",
   "execution_count": 89,
   "id": "e8bf9fba-b636-4962-a80b-4ae0090e9d62",
   "metadata": {},
   "outputs": [
    {
     "name": "stdout",
     "output_type": "stream",
     "text": [
      "+-------------+----------------+\n",
      "|order_channel|count(master_id)|\n",
      "+-------------+----------------+\n",
      "|  Android App|           11989|\n",
      "|       Mobile|            8512|\n",
      "|      Ios App|            3964|\n",
      "|      Desktop|            4751|\n",
      "|      Offline|           70784|\n",
      "+-------------+----------------+\n",
      "\n"
     ]
    }
   ],
   "source": [
    "df1.groupBy(\"order_channel\").agg({\"master_id\": \"count\"}).show()"
   ]
  },
  {
   "cell_type": "code",
   "execution_count": 90,
   "id": "a7980e18-1bd1-4700-8836-7247b191874b",
   "metadata": {
    "tags": []
   },
   "outputs": [
    {
     "name": "stdout",
     "output_type": "stream",
     "text": [
      "+-------------+------------------+\n",
      "|order_channel|   avg(_num_total)|\n",
      "+-------------+------------------+\n",
      "|  Android App|  3.50971724080407|\n",
      "|       Mobile| 2.798637218045113|\n",
      "|      Ios App| 3.377648839556004|\n",
      "|      Desktop| 2.538623447695222|\n",
      "|      Offline|1.6003475361663653|\n",
      "+-------------+------------------+\n",
      "\n"
     ]
    }
   ],
   "source": [
    "df1.groupBy(\"order_channel\").agg({\"order_num_total\": \"mean\"}).show()"
   ]
  },
  {
   "cell_type": "code",
   "execution_count": 91,
   "id": "f5b4bf91-f92a-43eb-9f4c-f22b7c18a263",
   "metadata": {},
   "outputs": [
    {
     "name": "stdout",
     "output_type": "stream",
     "text": [
      "+-------------+-------------------------+\n",
      "|order_channel|sum(customer_value_total)|\n",
      "+-------------+-------------------------+\n",
      "|  Android App|         6388294.10000052|\n",
      "|       Mobile|       3334506.8500001733|\n",
      "|      Ios App|        2253391.419999976|\n",
      "|      Desktop|       1790716.2999999432|\n",
      "|      Offline|     1.5442516930013401E7|\n",
      "+-------------+-------------------------+\n",
      "\n"
     ]
    }
   ],
   "source": [
    "df1.groupBy(\"order_channel\").agg({\"customer_value_total\": \"sum\"}).show()"
   ]
  },
  {
   "cell_type": "code",
   "execution_count": 189,
   "id": "979b0bc2-4c10-446d-b3a1-1f0d751ed6af",
   "metadata": {},
   "outputs": [
    {
     "name": "stdout",
     "output_type": "stream",
     "text": [
      "+-------------+----------------+--------------------+-------------------------+\n",
      "|order_channel|count(master_id)|avg(order_num_total)|sum(customer_value_total)|\n",
      "+-------------+----------------+--------------------+-------------------------+\n",
      "|  Android App|           11989|    3.50971724080407|         6388294.10000052|\n",
      "|       Mobile|            8512|   2.798637218045113|       3334506.8500001733|\n",
      "|      Ios App|            3964|   3.377648839556004|        2253391.419999976|\n",
      "|      Desktop|            4751|   2.538623447695222|       1790716.2999999432|\n",
      "|      Offline|           70784|  1.6003475361663653|     1.5442516930013401E7|\n",
      "+-------------+----------------+--------------------+-------------------------+\n",
      "\n"
     ]
    }
   ],
   "source": [
    "df1.groupBy(\"order_channel\").agg(F.count(\"master_id\"), F.mean(\"order_num_total\"), F.sum(\"customer_value_total\")).show()"
   ]
  },
  {
   "cell_type": "code",
   "execution_count": 92,
   "id": "22aef47f-7326-44d1-a51f-306ca1e576ff",
   "metadata": {
    "collapsed": true,
    "jupyter": {
     "outputs_hidden": true
    },
    "tags": []
   },
   "outputs": [
    {
     "name": "stdout",
     "output_type": "stream",
     "text": [
      "+-------------+----------------+\n",
      "|platform_type|count(master_id)|\n",
      "+-------------+----------------+\n",
      "|  OmniChannel|           12569|\n",
      "|       Online|           21440|\n",
      "|      Offline|           65991|\n",
      "+-------------+----------------+\n",
      "\n"
     ]
    }
   ],
   "source": [
    "df1.groupBy(\"platform_type\").agg({\"master_id\": \"count\"}).show()"
   ]
  },
  {
   "cell_type": "code",
   "execution_count": 93,
   "id": "1824d022-f097-4841-9d2c-ba6cd164d856",
   "metadata": {},
   "outputs": [
    {
     "name": "stdout",
     "output_type": "stream",
     "text": [
      "+-------------+------------------+\n",
      "|platform_type|   avg(_num_total)|\n",
      "+-------------+------------------+\n",
      "|  OmniChannel|3.4947092051873656|\n",
      "|       Online|2.6207089552238805|\n",
      "|      Offline|1.5837917291751906|\n",
      "+-------------+------------------+\n",
      "\n"
     ]
    }
   ],
   "source": [
    "df1.groupBy(\"platform_type\").agg({\"order_num_total\": \"mean\"}).show()"
   ]
  },
  {
   "cell_type": "code",
   "execution_count": 94,
   "id": "0225242e-d29d-4f1f-ae81-90fc813eb54b",
   "metadata": {},
   "outputs": [
    {
     "name": "stdout",
     "output_type": "stream",
     "text": [
      "+-------------+-------------------------+\n",
      "|platform_type|sum(customer_value_total)|\n",
      "+-------------+-------------------------+\n",
      "|  OmniChannel|       6294476.6600005785|\n",
      "|       Online|        8678690.260001639|\n",
      "|      Offline|     1.4236258680012075E7|\n",
      "+-------------+-------------------------+\n",
      "\n"
     ]
    }
   ],
   "source": [
    "df1.groupBy(\"platform_type\").agg({\"customer_value_total\": \"sum\"}).show()"
   ]
  },
  {
   "cell_type": "code",
   "execution_count": 190,
   "id": "163c9763-58e1-4d8f-9f89-f9082852aeeb",
   "metadata": {},
   "outputs": [
    {
     "name": "stdout",
     "output_type": "stream",
     "text": [
      "+-------------+----------------+--------------------+-------------------------+\n",
      "|platform_type|count(master_id)|avg(order_num_total)|sum(customer_value_total)|\n",
      "+-------------+----------------+--------------------+-------------------------+\n",
      "|  OmniChannel|           12569|  3.4947092051873656|       6294476.6600005785|\n",
      "|       Online|           21440|  2.6207089552238805|        8678690.260001639|\n",
      "|      Offline|           65991|  1.5837917291751906|     1.4236258680012075E7|\n",
      "+-------------+----------------+--------------------+-------------------------+\n",
      "\n"
     ]
    }
   ],
   "source": [
    "df1.groupBy(\"platform_type\").agg(F.count(\"master_id\"), F.mean(\"order_num_total\"), F.sum(\"customer_value_total\")).show()"
   ]
  },
  {
   "cell_type": "markdown",
   "id": "dc99b348-aff1-432c-a50b-46633d421078",
   "metadata": {},
   "source": [
    "### CALCULATION OF K-MEANS METRICS "
   ]
  },
  {
   "cell_type": "code",
   "execution_count": 102,
   "id": "777aae8e-ded3-4edd-a2f0-c3e9739476ef",
   "metadata": {},
   "outputs": [],
   "source": [
    "columns = [\"master_id\", \"last_order_date_new\", \"order_num_total\", \"customer_value_total\"]\n",
    "rfm = df1.select(columns)"
   ]
  },
  {
   "cell_type": "code",
   "execution_count": 103,
   "id": "99eeef83-e39f-4c44-a7a2-d5a1c86d1f56",
   "metadata": {},
   "outputs": [
    {
     "data": {
      "text/html": [
       "<div>\n",
       "<style scoped>\n",
       "    .dataframe tbody tr th:only-of-type {\n",
       "        vertical-align: middle;\n",
       "    }\n",
       "\n",
       "    .dataframe tbody tr th {\n",
       "        vertical-align: top;\n",
       "    }\n",
       "\n",
       "    .dataframe thead th {\n",
       "        text-align: right;\n",
       "    }\n",
       "</style>\n",
       "<table border=\"1\" class=\"dataframe\">\n",
       "  <thead>\n",
       "    <tr style=\"text-align: right;\">\n",
       "      <th></th>\n",
       "      <th>master_id</th>\n",
       "      <th>last_order_date_new</th>\n",
       "      <th>order_num_total</th>\n",
       "      <th>customer_value_total</th>\n",
       "    </tr>\n",
       "  </thead>\n",
       "  <tbody>\n",
       "    <tr>\n",
       "      <th>0</th>\n",
       "      <td>b3ace094-a17f-11e9-a2fc-000d3a38a36f</td>\n",
       "      <td>2019-02-23</td>\n",
       "      <td>1.0</td>\n",
       "      <td>212.98</td>\n",
       "    </tr>\n",
       "    <tr>\n",
       "      <th>1</th>\n",
       "      <td>c57d7c4c-a950-11e9-a2fc-000d3a38a36f</td>\n",
       "      <td>2019-12-01</td>\n",
       "      <td>1.0</td>\n",
       "      <td>199.98</td>\n",
       "    </tr>\n",
       "    <tr>\n",
       "      <th>2</th>\n",
       "      <td>602897a6-cdac-11ea-b31f-000d3a38a36f</td>\n",
       "      <td>2020-07-24</td>\n",
       "      <td>1.0</td>\n",
       "      <td>140.49</td>\n",
       "    </tr>\n",
       "    <tr>\n",
       "      <th>3</th>\n",
       "      <td>388e4c4e-af86-11e9-a2fc-000d3a38a36f</td>\n",
       "      <td>2018-12-31</td>\n",
       "      <td>1.0</td>\n",
       "      <td>174.99</td>\n",
       "    </tr>\n",
       "    <tr>\n",
       "      <th>4</th>\n",
       "      <td>80664354-adf0-11eb-8f64-000d3a299ebf</td>\n",
       "      <td>2021-05-05</td>\n",
       "      <td>2.0</td>\n",
       "      <td>283.95</td>\n",
       "    </tr>\n",
       "  </tbody>\n",
       "</table>\n",
       "</div>"
      ],
      "text/plain": [
       "                              master_id last_order_date_new  order_num_total  \\\n",
       "0  b3ace094-a17f-11e9-a2fc-000d3a38a36f          2019-02-23              1.0   \n",
       "1  c57d7c4c-a950-11e9-a2fc-000d3a38a36f          2019-12-01              1.0   \n",
       "2  602897a6-cdac-11ea-b31f-000d3a38a36f          2020-07-24              1.0   \n",
       "3  388e4c4e-af86-11e9-a2fc-000d3a38a36f          2018-12-31              1.0   \n",
       "4  80664354-adf0-11eb-8f64-000d3a299ebf          2021-05-05              2.0   \n",
       "\n",
       "   customer_value_total  \n",
       "0                212.98  \n",
       "1                199.98  \n",
       "2                140.49  \n",
       "3                174.99  \n",
       "4                283.95  "
      ]
     },
     "execution_count": 103,
     "metadata": {},
     "output_type": "execute_result"
    }
   ],
   "source": [
    "rfm.limit(5).toPandas()"
   ]
  },
  {
   "cell_type": "code",
   "execution_count": 130,
   "id": "334f359e-e3d5-43e1-bf55-a25d9d5aedc3",
   "metadata": {},
   "outputs": [],
   "source": [
    "last_date_order = rfm.agg({\"last_order_date_new\": \"max\"}).collect()[0][0]"
   ]
  },
  {
   "cell_type": "code",
   "execution_count": 193,
   "id": "73ef72f4-4a2b-4f1c-a12d-0ab135854289",
   "metadata": {},
   "outputs": [
    {
     "name": "stdout",
     "output_type": "stream",
     "text": [
      "2021-05-30\n"
     ]
    }
   ],
   "source": [
    "# last_date = rfm.orderBy(\"last_order_date_new\", ascending = False).first()[\"last_order_date_new\"]\n",
    "# print(last_date)"
   ]
  },
  {
   "cell_type": "code",
   "execution_count": 131,
   "id": "759f4f6e-5945-4184-b94e-47b1472793f8",
   "metadata": {},
   "outputs": [
    {
     "name": "stdout",
     "output_type": "stream",
     "text": [
      "2021-05-30\n"
     ]
    }
   ],
   "source": [
    "print(last_date_order)"
   ]
  },
  {
   "cell_type": "code",
   "execution_count": 197,
   "id": "d982ec1d-b80e-4bef-a9a7-6318351d40ea",
   "metadata": {
    "tags": []
   },
   "outputs": [],
   "source": [
    "rfm1 = rfm.withColumn(\"Recency\", F.expr(f\"datediff('{last_date_order}', last_order_date_new) + 2\"))"
   ]
  },
  {
   "cell_type": "code",
   "execution_count": 195,
   "id": "ffff730e-2a3e-4796-867a-89f76e4eeee3",
   "metadata": {},
   "outputs": [
    {
     "name": "stdout",
     "output_type": "stream",
     "text": [
      "root\n",
      " |-- master_id: string (nullable = true)\n",
      " |-- last_order_date_new: date (nullable = true)\n",
      " |-- order_num_total: double (nullable = false)\n",
      " |-- customer_value_total: double (nullable = true)\n",
      " |-- Recency: integer (nullable = true)\n",
      "\n"
     ]
    }
   ],
   "source": [
    "rfm1.printSchema()"
   ]
  },
  {
   "cell_type": "code",
   "execution_count": 196,
   "id": "2529c5ad-0fbc-4931-8329-68fefd18bc50",
   "metadata": {},
   "outputs": [
    {
     "data": {
      "text/html": [
       "<div>\n",
       "<style scoped>\n",
       "    .dataframe tbody tr th:only-of-type {\n",
       "        vertical-align: middle;\n",
       "    }\n",
       "\n",
       "    .dataframe tbody tr th {\n",
       "        vertical-align: top;\n",
       "    }\n",
       "\n",
       "    .dataframe thead th {\n",
       "        text-align: right;\n",
       "    }\n",
       "</style>\n",
       "<table border=\"1\" class=\"dataframe\">\n",
       "  <thead>\n",
       "    <tr style=\"text-align: right;\">\n",
       "      <th></th>\n",
       "      <th>master_id</th>\n",
       "      <th>last_order_date_new</th>\n",
       "      <th>order_num_total</th>\n",
       "      <th>customer_value_total</th>\n",
       "      <th>Recency</th>\n",
       "    </tr>\n",
       "  </thead>\n",
       "  <tbody>\n",
       "    <tr>\n",
       "      <th>0</th>\n",
       "      <td>b3ace094-a17f-11e9-a2fc-000d3a38a36f</td>\n",
       "      <td>2019-02-23</td>\n",
       "      <td>1.0</td>\n",
       "      <td>212.98</td>\n",
       "      <td>829</td>\n",
       "    </tr>\n",
       "    <tr>\n",
       "      <th>1</th>\n",
       "      <td>c57d7c4c-a950-11e9-a2fc-000d3a38a36f</td>\n",
       "      <td>2019-12-01</td>\n",
       "      <td>1.0</td>\n",
       "      <td>199.98</td>\n",
       "      <td>548</td>\n",
       "    </tr>\n",
       "    <tr>\n",
       "      <th>2</th>\n",
       "      <td>602897a6-cdac-11ea-b31f-000d3a38a36f</td>\n",
       "      <td>2020-07-24</td>\n",
       "      <td>1.0</td>\n",
       "      <td>140.49</td>\n",
       "      <td>312</td>\n",
       "    </tr>\n",
       "  </tbody>\n",
       "</table>\n",
       "</div>"
      ],
      "text/plain": [
       "                              master_id last_order_date_new  order_num_total  \\\n",
       "0  b3ace094-a17f-11e9-a2fc-000d3a38a36f          2019-02-23              1.0   \n",
       "1  c57d7c4c-a950-11e9-a2fc-000d3a38a36f          2019-12-01              1.0   \n",
       "2  602897a6-cdac-11ea-b31f-000d3a38a36f          2020-07-24              1.0   \n",
       "\n",
       "   customer_value_total  Recency  \n",
       "0                212.98      829  \n",
       "1                199.98      548  \n",
       "2                140.49      312  "
      ]
     },
     "execution_count": 196,
     "metadata": {},
     "output_type": "execute_result"
    }
   ],
   "source": [
    "rfm1.limit(3).toPandas()"
   ]
  },
  {
   "cell_type": "code",
   "execution_count": 137,
   "id": "5ac4179d-6abb-48a3-8146-351909e7c211",
   "metadata": {},
   "outputs": [],
   "source": [
    "rfm1 = rfm1.withColumnRenamed(\"order_num_total\", \"Frequency\").withColumnRenamed(\"customer_value_total\", \"Monetary\")"
   ]
  },
  {
   "cell_type": "code",
   "execution_count": 141,
   "id": "a6a799ee-a139-4aef-bf87-c6ba18bfe242",
   "metadata": {},
   "outputs": [],
   "source": [
    "rfm2 = rfm1.drop(\"last_order_date_new\")"
   ]
  },
  {
   "cell_type": "code",
   "execution_count": 143,
   "id": "d3f04450-a963-4af4-9cef-754f8330e03f",
   "metadata": {},
   "outputs": [
    {
     "data": {
      "text/html": [
       "<div>\n",
       "<style scoped>\n",
       "    .dataframe tbody tr th:only-of-type {\n",
       "        vertical-align: middle;\n",
       "    }\n",
       "\n",
       "    .dataframe tbody tr th {\n",
       "        vertical-align: top;\n",
       "    }\n",
       "\n",
       "    .dataframe thead th {\n",
       "        text-align: right;\n",
       "    }\n",
       "</style>\n",
       "<table border=\"1\" class=\"dataframe\">\n",
       "  <thead>\n",
       "    <tr style=\"text-align: right;\">\n",
       "      <th></th>\n",
       "      <th>master_id</th>\n",
       "      <th>Frequency</th>\n",
       "      <th>Monetary</th>\n",
       "      <th>Recency</th>\n",
       "    </tr>\n",
       "  </thead>\n",
       "  <tbody>\n",
       "    <tr>\n",
       "      <th>0</th>\n",
       "      <td>b3ace094-a17f-11e9-a2fc-000d3a38a36f</td>\n",
       "      <td>1.0</td>\n",
       "      <td>212.98</td>\n",
       "      <td>829</td>\n",
       "    </tr>\n",
       "    <tr>\n",
       "      <th>1</th>\n",
       "      <td>c57d7c4c-a950-11e9-a2fc-000d3a38a36f</td>\n",
       "      <td>1.0</td>\n",
       "      <td>199.98</td>\n",
       "      <td>548</td>\n",
       "    </tr>\n",
       "    <tr>\n",
       "      <th>2</th>\n",
       "      <td>602897a6-cdac-11ea-b31f-000d3a38a36f</td>\n",
       "      <td>1.0</td>\n",
       "      <td>140.49</td>\n",
       "      <td>312</td>\n",
       "    </tr>\n",
       "    <tr>\n",
       "      <th>3</th>\n",
       "      <td>388e4c4e-af86-11e9-a2fc-000d3a38a36f</td>\n",
       "      <td>1.0</td>\n",
       "      <td>174.99</td>\n",
       "      <td>883</td>\n",
       "    </tr>\n",
       "    <tr>\n",
       "      <th>4</th>\n",
       "      <td>80664354-adf0-11eb-8f64-000d3a299ebf</td>\n",
       "      <td>2.0</td>\n",
       "      <td>283.95</td>\n",
       "      <td>27</td>\n",
       "    </tr>\n",
       "  </tbody>\n",
       "</table>\n",
       "</div>"
      ],
      "text/plain": [
       "                              master_id  Frequency  Monetary  Recency\n",
       "0  b3ace094-a17f-11e9-a2fc-000d3a38a36f        1.0    212.98      829\n",
       "1  c57d7c4c-a950-11e9-a2fc-000d3a38a36f        1.0    199.98      548\n",
       "2  602897a6-cdac-11ea-b31f-000d3a38a36f        1.0    140.49      312\n",
       "3  388e4c4e-af86-11e9-a2fc-000d3a38a36f        1.0    174.99      883\n",
       "4  80664354-adf0-11eb-8f64-000d3a299ebf        2.0    283.95       27"
      ]
     },
     "execution_count": 143,
     "metadata": {},
     "output_type": "execute_result"
    }
   ],
   "source": [
    "rfm2.limit(5).toPandas()"
   ]
  },
  {
   "cell_type": "markdown",
   "id": "16429135-56cd-4240-9328-9dcbfb577c53",
   "metadata": {},
   "source": [
    "### VECTOR ASSEMBLER"
   ]
  },
  {
   "cell_type": "code",
   "execution_count": 149,
   "id": "2fd14564-7905-48ef-b753-c9a503d2ba7c",
   "metadata": {},
   "outputs": [],
   "source": [
    "assembler_cols = rfm2.columns[1:]"
   ]
  },
  {
   "cell_type": "code",
   "execution_count": 144,
   "id": "13e12d65-6c24-4cf6-b346-e90d9c475b13",
   "metadata": {},
   "outputs": [],
   "source": [
    "from pyspark.ml.feature import VectorAssembler"
   ]
  },
  {
   "cell_type": "code",
   "execution_count": 158,
   "id": "2f4d1360-7bcd-4169-a037-beb4c24b2703",
   "metadata": {},
   "outputs": [],
   "source": [
    "assembler = VectorAssembler()\\\n",
    "    .setHandleInvalid(\"skip\")\\\n",
    "    .setInputCols(assembler_cols)\\\n",
    "    .setOutputCol(\"unscaled_features\")"
   ]
  },
  {
   "cell_type": "markdown",
   "id": "c497b6ab-e871-480e-aa60-4bb6d6a80f76",
   "metadata": {},
   "source": [
    "### FEATURE SCALER"
   ]
  },
  {
   "cell_type": "code",
   "execution_count": 159,
   "id": "51e97b59-e2e9-457b-ae52-52c640a7e04c",
   "metadata": {},
   "outputs": [],
   "source": [
    "from pyspark.ml.feature import StandardScaler"
   ]
  },
  {
   "cell_type": "code",
   "execution_count": 162,
   "id": "367c84bb-508b-423d-81fb-62edfcb963e7",
   "metadata": {},
   "outputs": [],
   "source": [
    "scaler = StandardScaler()\\\n",
    "    .setInputCol(\"unscaled_features\")\\\n",
    "    .setOutputCol(\"features\")"
   ]
  },
  {
   "cell_type": "markdown",
   "id": "0654036b-efb9-4d68-87bc-dac96789fa8e",
   "metadata": {},
   "source": [
    "### PIPELINE"
   ]
  },
  {
   "cell_type": "code",
   "execution_count": 164,
   "id": "e8ae576e-688b-4f92-bcd5-46988a7bf30f",
   "metadata": {},
   "outputs": [],
   "source": [
    "from pyspark.ml import Pipeline"
   ]
  },
  {
   "cell_type": "code",
   "execution_count": 165,
   "id": "1c785c3f-8d70-4547-a317-12bddf89a292",
   "metadata": {},
   "outputs": [],
   "source": [
    "pipeline_obj = Pipeline().setStages([assembler, scaler])"
   ]
  },
  {
   "cell_type": "code",
   "execution_count": 166,
   "id": "9264641b-6b0c-4ac4-bc94-8dd12f56a52b",
   "metadata": {},
   "outputs": [],
   "source": [
    "pipeline_model = pipeline_obj.fit(rfm2)"
   ]
  },
  {
   "cell_type": "code",
   "execution_count": 167,
   "id": "2dda0b14-b585-4fc7-a026-aa581eb65a53",
   "metadata": {},
   "outputs": [],
   "source": [
    "pipeline_df = pipeline_model.transform(rfm2)"
   ]
  },
  {
   "cell_type": "code",
   "execution_count": 168,
   "id": "d4104223-7f7d-4b19-aaff-d9f1f8f2fd60",
   "metadata": {},
   "outputs": [
    {
     "data": {
      "text/html": [
       "<div>\n",
       "<style scoped>\n",
       "    .dataframe tbody tr th:only-of-type {\n",
       "        vertical-align: middle;\n",
       "    }\n",
       "\n",
       "    .dataframe tbody tr th {\n",
       "        vertical-align: top;\n",
       "    }\n",
       "\n",
       "    .dataframe thead th {\n",
       "        text-align: right;\n",
       "    }\n",
       "</style>\n",
       "<table border=\"1\" class=\"dataframe\">\n",
       "  <thead>\n",
       "    <tr style=\"text-align: right;\">\n",
       "      <th></th>\n",
       "      <th>master_id</th>\n",
       "      <th>Frequency</th>\n",
       "      <th>Monetary</th>\n",
       "      <th>Recency</th>\n",
       "      <th>unscaled_features</th>\n",
       "      <th>features</th>\n",
       "    </tr>\n",
       "  </thead>\n",
       "  <tbody>\n",
       "    <tr>\n",
       "      <th>0</th>\n",
       "      <td>b3ace094-a17f-11e9-a2fc-000d3a38a36f</td>\n",
       "      <td>1.0</td>\n",
       "      <td>212.98</td>\n",
       "      <td>829</td>\n",
       "      <td>[1.0, 212.98, 829.0]</td>\n",
       "      <td>[0.3277012075046895, 0.4598810576445184, 3.247...</td>\n",
       "    </tr>\n",
       "    <tr>\n",
       "      <th>1</th>\n",
       "      <td>c57d7c4c-a950-11e9-a2fc-000d3a38a36f</td>\n",
       "      <td>1.0</td>\n",
       "      <td>199.98</td>\n",
       "      <td>548</td>\n",
       "      <td>[1.0, 199.98, 548.0]</td>\n",
       "      <td>[0.3277012075046895, 0.43181056393910594, 2.14...</td>\n",
       "    </tr>\n",
       "    <tr>\n",
       "      <th>2</th>\n",
       "      <td>602897a6-cdac-11ea-b31f-000d3a38a36f</td>\n",
       "      <td>1.0</td>\n",
       "      <td>140.49</td>\n",
       "      <td>312</td>\n",
       "      <td>[1.0, 140.49, 312.0]</td>\n",
       "      <td>[0.3277012075046895, 0.3033556662056456, 1.222...</td>\n",
       "    </tr>\n",
       "    <tr>\n",
       "      <th>3</th>\n",
       "      <td>388e4c4e-af86-11e9-a2fc-000d3a38a36f</td>\n",
       "      <td>1.0</td>\n",
       "      <td>174.99</td>\n",
       "      <td>883</td>\n",
       "      <td>[1.0, 174.99, 883.0]</td>\n",
       "      <td>[0.3277012075046895, 0.37785043796231704, 3.45...</td>\n",
       "    </tr>\n",
       "    <tr>\n",
       "      <th>4</th>\n",
       "      <td>80664354-adf0-11eb-8f64-000d3a299ebf</td>\n",
       "      <td>2.0</td>\n",
       "      <td>283.95</td>\n",
       "      <td>27</td>\n",
       "      <td>[2.0, 283.95, 27.0]</td>\n",
       "      <td>[0.655402415009379, 0.6131243605886045, 0.1057...</td>\n",
       "    </tr>\n",
       "  </tbody>\n",
       "</table>\n",
       "</div>"
      ],
      "text/plain": [
       "                              master_id  Frequency  Monetary  Recency  \\\n",
       "0  b3ace094-a17f-11e9-a2fc-000d3a38a36f        1.0    212.98      829   \n",
       "1  c57d7c4c-a950-11e9-a2fc-000d3a38a36f        1.0    199.98      548   \n",
       "2  602897a6-cdac-11ea-b31f-000d3a38a36f        1.0    140.49      312   \n",
       "3  388e4c4e-af86-11e9-a2fc-000d3a38a36f        1.0    174.99      883   \n",
       "4  80664354-adf0-11eb-8f64-000d3a299ebf        2.0    283.95       27   \n",
       "\n",
       "      unscaled_features                                           features  \n",
       "0  [1.0, 212.98, 829.0]  [0.3277012075046895, 0.4598810576445184, 3.247...  \n",
       "1  [1.0, 199.98, 548.0]  [0.3277012075046895, 0.43181056393910594, 2.14...  \n",
       "2  [1.0, 140.49, 312.0]  [0.3277012075046895, 0.3033556662056456, 1.222...  \n",
       "3  [1.0, 174.99, 883.0]  [0.3277012075046895, 0.37785043796231704, 3.45...  \n",
       "4   [2.0, 283.95, 27.0]  [0.655402415009379, 0.6131243605886045, 0.1057...  "
      ]
     },
     "execution_count": 168,
     "metadata": {},
     "output_type": "execute_result"
    }
   ],
   "source": [
    "pipeline_df.limit(5).toPandas()"
   ]
  },
  {
   "cell_type": "markdown",
   "id": "406608a2-c1f1-44e3-9e45-6e265b141946",
   "metadata": {},
   "source": [
    "### K-MEANS MODEL AND OPTIMUM CLUSTER DETERMINATION"
   ]
  },
  {
   "cell_type": "code",
   "execution_count": 169,
   "id": "b8d32ae9-5225-4b83-a782-603d1f17de69",
   "metadata": {},
   "outputs": [],
   "source": [
    "from pyspark.ml.clustering import KMeans"
   ]
  },
  {
   "cell_type": "code",
   "execution_count": 170,
   "id": "6af75312-7ecd-4492-96aa-880adeff6e10",
   "metadata": {},
   "outputs": [],
   "source": [
    "def compute_kmeans_model(df, k):\n",
    "    kmeansObject = KMeans() \\\n",
    "        .setSeed(142) \\\n",
    "        .setK(k)\n",
    "    \n",
    "    return kmeansObject.fit(df)"
   ]
  },
  {
   "cell_type": "code",
   "execution_count": 171,
   "id": "5bbe2775-560b-49f5-a3dd-4019337e6324",
   "metadata": {},
   "outputs": [],
   "source": [
    "from pyspark.ml.evaluation import ClusteringEvaluator\n",
    "evaluator = ClusteringEvaluator()"
   ]
  },
  {
   "cell_type": "code",
   "execution_count": 172,
   "id": "61193589-f73f-4d4b-a46e-b91cd8dc2ae6",
   "metadata": {},
   "outputs": [
    {
     "name": "stdout",
     "output_type": "stream",
     "text": [
      "k: 2, score: 0.999540331314793\n",
      "k: 3, score: 0.6549749959656543\n",
      "k: 4, score: 0.6752012569444599\n",
      "k: 5, score: 0.5023405880556393\n",
      "k: 6, score: 0.5425218220645989\n",
      "k: 7, score: 0.5532151404232838\n",
      "k: 8, score: 0.6500417695963127\n",
      "k: 9, score: 0.547918043476468\n",
      "k: 10, score: 0.5083959076286391\n"
     ]
    }
   ],
   "source": [
    "for k in range(2,11):\n",
    "    kmeans_model = compute_kmeans_model(pipeline_df, k)\n",
    "    \n",
    "    transformed_df = kmeans_model.transform(pipeline_df)\n",
    "    \n",
    "    score = evaluator.evaluate(transformed_df)\n",
    "    \n",
    "    print(\"k: {}, score: {}\" .format(k, score))"
   ]
  },
  {
   "cell_type": "code",
   "execution_count": 173,
   "id": "60e605f9-1608-4bcc-bf10-b62ddd7d930c",
   "metadata": {},
   "outputs": [],
   "source": [
    "kmeans_model = compute_kmeans_model(pipeline_df, 4)"
   ]
  },
  {
   "cell_type": "markdown",
   "id": "ab140391-05cd-4659-8f6b-d110c6b7bd0a",
   "metadata": {},
   "source": [
    "### PREDICTION"
   ]
  },
  {
   "cell_type": "code",
   "execution_count": 174,
   "id": "fe388f36-e25a-43b0-af47-77b7ded1d305",
   "metadata": {},
   "outputs": [],
   "source": [
    "transformed_df = kmeans_model.transform(pipeline_df)"
   ]
  },
  {
   "cell_type": "code",
   "execution_count": 175,
   "id": "39fc6f88-3e78-4660-9587-6e4a4e567a60",
   "metadata": {},
   "outputs": [
    {
     "data": {
      "text/html": [
       "<div>\n",
       "<style scoped>\n",
       "    .dataframe tbody tr th:only-of-type {\n",
       "        vertical-align: middle;\n",
       "    }\n",
       "\n",
       "    .dataframe tbody tr th {\n",
       "        vertical-align: top;\n",
       "    }\n",
       "\n",
       "    .dataframe thead th {\n",
       "        text-align: right;\n",
       "    }\n",
       "</style>\n",
       "<table border=\"1\" class=\"dataframe\">\n",
       "  <thead>\n",
       "    <tr style=\"text-align: right;\">\n",
       "      <th></th>\n",
       "      <th>master_id</th>\n",
       "      <th>Frequency</th>\n",
       "      <th>Monetary</th>\n",
       "      <th>Recency</th>\n",
       "      <th>unscaled_features</th>\n",
       "      <th>features</th>\n",
       "      <th>prediction</th>\n",
       "    </tr>\n",
       "  </thead>\n",
       "  <tbody>\n",
       "    <tr>\n",
       "      <th>0</th>\n",
       "      <td>b3ace094-a17f-11e9-a2fc-000d3a38a36f</td>\n",
       "      <td>1.0</td>\n",
       "      <td>212.98</td>\n",
       "      <td>829</td>\n",
       "      <td>[1.0, 212.98, 829.0]</td>\n",
       "      <td>[0.3277012075046895, 0.4598810576445184, 3.247...</td>\n",
       "      <td>0</td>\n",
       "    </tr>\n",
       "    <tr>\n",
       "      <th>1</th>\n",
       "      <td>c57d7c4c-a950-11e9-a2fc-000d3a38a36f</td>\n",
       "      <td>1.0</td>\n",
       "      <td>199.98</td>\n",
       "      <td>548</td>\n",
       "      <td>[1.0, 199.98, 548.0]</td>\n",
       "      <td>[0.3277012075046895, 0.43181056393910594, 2.14...</td>\n",
       "      <td>0</td>\n",
       "    </tr>\n",
       "    <tr>\n",
       "      <th>2</th>\n",
       "      <td>602897a6-cdac-11ea-b31f-000d3a38a36f</td>\n",
       "      <td>1.0</td>\n",
       "      <td>140.49</td>\n",
       "      <td>312</td>\n",
       "      <td>[1.0, 140.49, 312.0]</td>\n",
       "      <td>[0.3277012075046895, 0.3033556662056456, 1.222...</td>\n",
       "      <td>0</td>\n",
       "    </tr>\n",
       "    <tr>\n",
       "      <th>3</th>\n",
       "      <td>388e4c4e-af86-11e9-a2fc-000d3a38a36f</td>\n",
       "      <td>1.0</td>\n",
       "      <td>174.99</td>\n",
       "      <td>883</td>\n",
       "      <td>[1.0, 174.99, 883.0]</td>\n",
       "      <td>[0.3277012075046895, 0.37785043796231704, 3.45...</td>\n",
       "      <td>0</td>\n",
       "    </tr>\n",
       "    <tr>\n",
       "      <th>4</th>\n",
       "      <td>80664354-adf0-11eb-8f64-000d3a299ebf</td>\n",
       "      <td>2.0</td>\n",
       "      <td>283.95</td>\n",
       "      <td>27</td>\n",
       "      <td>[2.0, 283.95, 27.0]</td>\n",
       "      <td>[0.655402415009379, 0.6131243605886045, 0.1057...</td>\n",
       "      <td>0</td>\n",
       "    </tr>\n",
       "    <tr>\n",
       "      <th>5</th>\n",
       "      <td>47511f36-aeb4-11e9-a2fc-000d3a38a36f</td>\n",
       "      <td>1.0</td>\n",
       "      <td>139.98</td>\n",
       "      <td>933</td>\n",
       "      <td>[1.0, 139.98, 933.0]</td>\n",
       "      <td>[0.3277012075046895, 0.30225443914489475, 3.65...</td>\n",
       "      <td>0</td>\n",
       "    </tr>\n",
       "    <tr>\n",
       "      <th>6</th>\n",
       "      <td>77f7c318-3407-11eb-9a15-000d3a38a36f</td>\n",
       "      <td>1.0</td>\n",
       "      <td>269.90</td>\n",
       "      <td>182</td>\n",
       "      <td>[1.0, 269.9, 182.0]</td>\n",
       "      <td>[0.3277012075046895, 0.5827866346992934, 0.713...</td>\n",
       "      <td>0</td>\n",
       "    </tr>\n",
       "    <tr>\n",
       "      <th>7</th>\n",
       "      <td>399d6dd2-ecf1-11ea-9369-000d3a38a36f</td>\n",
       "      <td>1.0</td>\n",
       "      <td>95.73</td>\n",
       "      <td>272</td>\n",
       "      <td>[1.0, 95.73, 272.0]</td>\n",
       "      <td>[0.3277012075046895, 0.206706797109164, 1.0656...</td>\n",
       "      <td>0</td>\n",
       "    </tr>\n",
       "    <tr>\n",
       "      <th>8</th>\n",
       "      <td>b3d4a6f2-a368-11e9-a2fc-000d3a38a36f</td>\n",
       "      <td>3.0</td>\n",
       "      <td>207.94</td>\n",
       "      <td>250</td>\n",
       "      <td>[3.0, 207.94, 250.0]</td>\n",
       "      <td>[0.9831036225140686, 0.44899834316180465, 0.97...</td>\n",
       "      <td>0</td>\n",
       "    </tr>\n",
       "    <tr>\n",
       "      <th>9</th>\n",
       "      <td>42fdccd4-f1d1-11ea-bde9-000d3a38a36f</td>\n",
       "      <td>1.0</td>\n",
       "      <td>134.95</td>\n",
       "      <td>226</td>\n",
       "      <td>[1.0, 134.95, 226.0]</td>\n",
       "      <td>[0.3277012075046895, 0.2913933173496467, 0.885...</td>\n",
       "      <td>0</td>\n",
       "    </tr>\n",
       "  </tbody>\n",
       "</table>\n",
       "</div>"
      ],
      "text/plain": [
       "                              master_id  Frequency  Monetary  Recency  \\\n",
       "0  b3ace094-a17f-11e9-a2fc-000d3a38a36f        1.0    212.98      829   \n",
       "1  c57d7c4c-a950-11e9-a2fc-000d3a38a36f        1.0    199.98      548   \n",
       "2  602897a6-cdac-11ea-b31f-000d3a38a36f        1.0    140.49      312   \n",
       "3  388e4c4e-af86-11e9-a2fc-000d3a38a36f        1.0    174.99      883   \n",
       "4  80664354-adf0-11eb-8f64-000d3a299ebf        2.0    283.95       27   \n",
       "5  47511f36-aeb4-11e9-a2fc-000d3a38a36f        1.0    139.98      933   \n",
       "6  77f7c318-3407-11eb-9a15-000d3a38a36f        1.0    269.90      182   \n",
       "7  399d6dd2-ecf1-11ea-9369-000d3a38a36f        1.0     95.73      272   \n",
       "8  b3d4a6f2-a368-11e9-a2fc-000d3a38a36f        3.0    207.94      250   \n",
       "9  42fdccd4-f1d1-11ea-bde9-000d3a38a36f        1.0    134.95      226   \n",
       "\n",
       "      unscaled_features                                           features  \\\n",
       "0  [1.0, 212.98, 829.0]  [0.3277012075046895, 0.4598810576445184, 3.247...   \n",
       "1  [1.0, 199.98, 548.0]  [0.3277012075046895, 0.43181056393910594, 2.14...   \n",
       "2  [1.0, 140.49, 312.0]  [0.3277012075046895, 0.3033556662056456, 1.222...   \n",
       "3  [1.0, 174.99, 883.0]  [0.3277012075046895, 0.37785043796231704, 3.45...   \n",
       "4   [2.0, 283.95, 27.0]  [0.655402415009379, 0.6131243605886045, 0.1057...   \n",
       "5  [1.0, 139.98, 933.0]  [0.3277012075046895, 0.30225443914489475, 3.65...   \n",
       "6   [1.0, 269.9, 182.0]  [0.3277012075046895, 0.5827866346992934, 0.713...   \n",
       "7   [1.0, 95.73, 272.0]  [0.3277012075046895, 0.206706797109164, 1.0656...   \n",
       "8  [3.0, 207.94, 250.0]  [0.9831036225140686, 0.44899834316180465, 0.97...   \n",
       "9  [1.0, 134.95, 226.0]  [0.3277012075046895, 0.2913933173496467, 0.885...   \n",
       "\n",
       "   prediction  \n",
       "0           0  \n",
       "1           0  \n",
       "2           0  \n",
       "3           0  \n",
       "4           0  \n",
       "5           0  \n",
       "6           0  \n",
       "7           0  \n",
       "8           0  \n",
       "9           0  "
      ]
     },
     "execution_count": 175,
     "metadata": {},
     "output_type": "execute_result"
    }
   ],
   "source": [
    "transformed_df.limit(10).toPandas()"
   ]
  },
  {
   "cell_type": "markdown",
   "id": "89ea6565-099a-4ab8-8561-43b7fb269a27",
   "metadata": {},
   "source": [
    "### DESCRIPTIVE STATISTICS"
   ]
  },
  {
   "cell_type": "code",
   "execution_count": 185,
   "id": "f14ab998-b5f5-4b70-ac61-bfa386e883b1",
   "metadata": {},
   "outputs": [
    {
     "name": "stdout",
     "output_type": "stream",
     "text": [
      "+----------+------------------+----------------------+--------------+--------------+\n",
      "|prediction|    avg(Frequency)|stddev_samp(Frequency)|max(Frequency)|min(Frequency)|\n",
      "+----------+------------------+----------------------+--------------+--------------+\n",
      "|         1|226.83333333333334|    104.16221323813481|         377.0|          89.0|\n",
      "|         0| 2.032801968118087|    2.3953926084982684|         126.0|           1.0|\n",
      "+----------+------------------+----------------------+--------------+--------------+\n",
      "\n"
     ]
    }
   ],
   "source": [
    "transformed_df.groupBy(\"prediction\").agg(F.mean(\"Frequency\"), F.stddev_samp(\"Frequency\"), F.max(\"Frequency\"), F.min(\"Frequency\")).show()"
   ]
  },
  {
   "cell_type": "code",
   "execution_count": 187,
   "id": "ead0e1ee-22f9-4b56-9b0d-62c4275687c1",
   "metadata": {},
   "outputs": [
    {
     "name": "stdout",
     "output_type": "stream",
     "text": [
      "+----------+------------------+---------------------+-------------+-------------+\n",
      "|prediction|     avg(Monetary)|stddev_samp(Monetary)|max(Monetary)|min(Monetary)|\n",
      "+----------+------------------+---------------------+-------------+-------------+\n",
      "|         1| 31003.60666666667|   12517.356352959945|     51178.23|     17005.69|\n",
      "|         0|290.25145468715596|    387.3742833124113|     18905.75|          0.0|\n",
      "+----------+------------------+---------------------+-------------+-------------+\n",
      "\n"
     ]
    }
   ],
   "source": [
    "transformed_df.groupBy(\"prediction\").agg(F.mean(\"Monetary\"), F.stddev_samp(\"Monetary\"), F.max(\"Monetary\"), F.min(\"Monetary\")).show()"
   ]
  },
  {
   "cell_type": "code",
   "execution_count": 188,
   "id": "626f4f36-6031-4be7-ba2c-9eb124fe8652",
   "metadata": {},
   "outputs": [
    {
     "name": "stdout",
     "output_type": "stream",
     "text": [
      "+----------+------------------+--------------------+------------+------------+\n",
      "|prediction|      avg(Recency)|stddev_samp(Recency)|max(Recency)|min(Recency)|\n",
      "+----------+------------------+--------------------+------------+------------+\n",
      "|         1|             343.5|  262.99866919815395|         657|          24|\n",
      "|         0|413.60598635918154|   255.2391576237783|        1097|           2|\n",
      "+----------+------------------+--------------------+------------+------------+\n",
      "\n"
     ]
    }
   ],
   "source": [
    "transformed_df.groupBy(\"prediction\").agg(F.mean(\"Recency\"), F.stddev_samp(\"Recency\"), F.max(\"Recency\"), F.min(\"Recency\")).show()"
   ]
  },
  {
   "cell_type": "code",
   "execution_count": null,
   "id": "646a6909-6e0f-46d1-91bd-7f68717b4303",
   "metadata": {},
   "outputs": [],
   "source": []
  }
 ],
 "metadata": {
  "kernelspec": {
   "display_name": "Python 3 (ipykernel)",
   "language": "python",
   "name": "python3"
  },
  "language_info": {
   "codemirror_mode": {
    "name": "ipython",
    "version": 3
   },
   "file_extension": ".py",
   "mimetype": "text/x-python",
   "name": "python",
   "nbconvert_exporter": "python",
   "pygments_lexer": "ipython3",
   "version": "3.10.9"
  }
 },
 "nbformat": 4,
 "nbformat_minor": 5
}